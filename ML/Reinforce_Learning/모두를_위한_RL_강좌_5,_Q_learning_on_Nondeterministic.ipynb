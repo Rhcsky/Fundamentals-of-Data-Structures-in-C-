{
  "nbformat": 4,
  "nbformat_minor": 0,
  "metadata": {
    "colab": {
      "name": "모두를 위한 RL 강좌 5, Q-learning on Nondeterministic",
      "provenance": []
    },
    "kernelspec": {
      "name": "python3",
      "display_name": "Python 3"
    }
  },
  "cells": [
    {
      "cell_type": "markdown",
      "metadata": {
        "id": "yJ25lOL7IZd4",
        "colab_type": "text"
      },
      "source": [
        "# Deterministic VS Stochastic\n",
        "내가 있는 상황은 항상 원하는대로 진행되지 않는다. We are in ***Stochastic***.\n",
        "\n",
        "So Q-learning does not working anymore.\n",
        "\n",
        "In Stochastic world\n",
        "* Listen to Q(s') (just a little bit)\n",
        "* Update Q(s) little bit (learning rate)\n",
        "\n",
        "$$Q(s,a) =(1-\\alpha ) Q(s,a) + \\alpha [r+\\gamma max Q(s',a')]$$\n",
        "\n"
      ]
    },
    {
      "cell_type": "code",
      "metadata": {
        "id": "K4TScHkMIFm1",
        "colab_type": "code",
        "colab": {
          "base_uri": "https://localhost:8080/",
          "height": 620
        },
        "outputId": "6f133c02-85f2-4c2a-de11-d28e8db59519"
      },
      "source": [
        "import gym\n",
        "import numpy as np\n",
        "import matplotlib.pyplot as plt\n",
        "from gym.envs.registration import register\n",
        "\n",
        "# register(\n",
        "#     id='FrozenLake-v3',\n",
        "#     entry_point='gym.envs.toy_text:FrozenLakeEnv',\n",
        "#     kwargs={'map_name' : '4x4', 'is_slippery': True}\n",
        "# )\n",
        "env = gym.make('FrozenLake-v0')\n",
        "\n",
        "Q = np.zeros([env.observation_space.n, env.action_space.n])\n",
        "dis = .99\n",
        "learing_rate = 0.85\n",
        "num_episodes = 2000\n",
        "\n",
        "rewardList = []\n",
        "for i in range(num_episodes):\n",
        "    state = env.reset()\n",
        "    rAll = 0\n",
        "    done = False\n",
        "\n",
        "    while not done:\n",
        "        action = np.argmax(Q[state, :] + np.random.randn(1, env.action_space.n) / (i + 1))\n",
        "\n",
        "        new_state, reward, done, _ = env.step(action)\n",
        "\n",
        "        Q[state, action] = (1-learing_rate)*Q[state,action] + learing_rate*(reward + dis * np.max(Q[new_state,:]))\n",
        "\n",
        "        rAll += reward\n",
        "        state = new_state\n",
        "    rewardList.append(rAll)\n",
        "\n",
        "print(\"Success rate: \" + str(sum(rewardList) / num_episodes))\n",
        "print(\"Final Q-Table Values\")\n",
        "print(\"LEFT DOWN RIGHT UP\")\n",
        "print(Q)\n",
        "plt.bar(range(len(rewardList)), rewardList, color='b', alpha=0.4)\n",
        "plt.show()"
      ],
      "execution_count": null,
      "outputs": [
        {
          "output_type": "stream",
          "text": [
            "Success rate: 0.523\n",
            "Final Q-Table Values\n",
            "LEFT DOWN RIGHT UP\n",
            "[[4.12371946e-01 1.26925747e-02 1.15915473e-02 1.26769156e-02]\n",
            " [4.16278065e-05 2.21462363e-03 2.12465782e-03 6.00564824e-01]\n",
            " [2.33531995e-04 4.35264295e-01 2.94946667e-03 1.13893627e-02]\n",
            " [9.43669701e-06 1.74851237e-03 1.81040114e-03 2.93602086e-01]\n",
            " [2.08572235e-01 1.52912100e-03 1.49704555e-03 1.60126320e-03]\n",
            " [0.00000000e+00 0.00000000e+00 0.00000000e+00 0.00000000e+00]\n",
            " [1.99916331e-01 1.14953023e-06 2.66704590e-04 5.84032873e-07]\n",
            " [0.00000000e+00 0.00000000e+00 0.00000000e+00 0.00000000e+00]\n",
            " [2.85082279e-04 5.66741714e-04 1.02233682e-03 5.94778219e-02]\n",
            " [4.75548441e-04 2.31515653e-01 1.47872902e-03 0.00000000e+00]\n",
            " [6.04446737e-01 5.50556249e-04 1.55012658e-04 2.12555685e-06]\n",
            " [0.00000000e+00 0.00000000e+00 0.00000000e+00 0.00000000e+00]\n",
            " [0.00000000e+00 0.00000000e+00 0.00000000e+00 0.00000000e+00]\n",
            " [0.00000000e+00 0.00000000e+00 8.35984656e-01 0.00000000e+00]\n",
            " [0.00000000e+00 0.00000000e+00 9.49520142e-01 0.00000000e+00]\n",
            " [0.00000000e+00 0.00000000e+00 0.00000000e+00 0.00000000e+00]]\n"
          ],
          "name": "stdout"
        },
        {
          "output_type": "display_data",
          "data": {
            "image/png": "[encoded data removed]",
            "text/plain": [
              "<Figure size 432x288 with 1 Axes>"
            ]
          },
          "metadata": {
            "tags": [],
            "needs_background": "light"
          }
        }
      ]
    }
  ]
}