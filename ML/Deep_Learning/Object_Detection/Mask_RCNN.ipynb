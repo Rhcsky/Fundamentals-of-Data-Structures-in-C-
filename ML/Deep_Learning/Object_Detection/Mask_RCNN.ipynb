{
  "nbformat": 4,
  "nbformat_minor": 0,
  "metadata": {
    "colab": {
      "name": "Mask-RCNN",
      "provenance": [],
      "collapsed_sections": []
    },
    "kernelspec": {
      "name": "python3",
      "display_name": "Python 3"
    },
    "accelerator": "GPU"
  },
  "cells": [
    {
      "cell_type": "code",
      "metadata": {
        "id": "5_1simoUvEHt",
        "colab_type": "code",
        "colab": {
          "base_uri": "https://localhost:8080/",
          "height": 36
        },
        "outputId": "e0c2efe8-9e83-4465-d48e-17119cf7abb7"
      },
      "source": [
        "%tensorflow_version 1.x"
      ],
      "execution_count": null,
      "outputs": [
        {
          "output_type": "stream",
          "text": [
            "TensorFlow 1.x selected.\n"
          ],
          "name": "stdout"
        }
      ]
    },
    {
      "cell_type": "code",
      "metadata": {
        "id": "bqPWYmJpmTCB",
        "colab_type": "code",
        "colab": {
          "base_uri": "https://localhost:8080/",
          "height": 36
        },
        "outputId": "744fe8ab-dd2e-47a4-a79d-46f73513bb0f"
      },
      "source": [
        "%cd drive/'My Drive'/'Colab Notebooks'/Mask_RCNN/samples/balloon"
      ],
      "execution_count": null,
      "outputs": [
        {
          "output_type": "stream",
          "text": [
            "/content/drive/My Drive/Colab Notebooks/Mask_RCNN/samples/balloon\n"
          ],
          "name": "stdout"
        }
      ]
    },
    {
      "cell_type": "code",
      "metadata": {
        "id": "f5KhLTAYm2za",
        "colab_type": "code",
        "colab": {}
      },
      "source": [
        "!git clone https://github.com/matterport/Mask_RCNN.git/"
      ],
      "execution_count": null,
      "outputs": []
    },
    {
      "cell_type": "code",
      "metadata": {
        "id": "iW_MSoCGrR0a",
        "colab_type": "code",
        "colab": {}
      },
      "source": [
        "!wget https://github.com/matterport/Mask_RCNN/releases/download/v2.1/mask_rcnn_balloon.h5"
      ],
      "execution_count": null,
      "outputs": []
    },
    {
      "cell_type": "code",
      "metadata": {
        "id": "4iFXGLLtQ2iz",
        "colab_type": "code",
        "colab": {}
      },
      "source": [
        "import glob\n",
        "\n",
        "dir_imgs = glob.glob('samples/balloon/images/train/*.jpg')\n",
        "dir_img = dir_imgs[1]\n",
        "dir_img"
      ],
      "execution_count": null,
      "outputs": []
    },
    {
      "cell_type": "code",
      "metadata": {
        "id": "8K_AZCnlwd4q",
        "colab_type": "code",
        "colab": {
          "base_uri": "https://localhost:8080/",
          "height": 36
        },
        "outputId": "15ad870d-dec0-4faa-99d1-de83c730c56a"
      },
      "source": [
        "import os\n",
        "os.environ['PYTHONPATH'] += \":/content/drive/My Drive/Colab Notebooks/Mask_RCNN\"\n",
        "! echo $PYTHONPATH"
      ],
      "execution_count": null,
      "outputs": [
        {
          "output_type": "stream",
          "text": [
            "/tensorflow-1.15.2/python3.6:/env/python:/content/drive/My Drive/Colab Notebooks/Mask_RCNN\n"
          ],
          "name": "stdout"
        }
      ]
    },
    {
      "cell_type": "code",
      "metadata": {
        "id": "iaOgsSZgneg4",
        "colab_type": "code",
        "colab": {}
      },
      "source": [
        "%%bash\n",
        "python /content/drive/My\\ Drive/Colab\\ Notebooks/Mask_RCNN/samples/balloon/balloon.py splash --weights=/content/drive/My\\ Drive/Colab\\ Notebooks/Mask_RCNN/samples/balloon/mask_rcnn_balloon.h5 --image=/content/drive/My\\ Drive/Colab\\ Notebooks/Mask_RCNN/samples/balloon/images/train/120853323_d4788431b9_b.jpg"
      ],
      "execution_count": null,
      "outputs": []
    },
    {
      "cell_type": "code",
      "metadata": {
        "id": "EqycQg3So4kf",
        "colab_type": "code",
        "colab": {}
      },
      "source": [
        "%%bash\n",
        "python balloon.py splash --weights=mask_rcnn_balloon.h5 --image=images/train/120853323_d4788431b9_b.jpg"
      ],
      "execution_count": null,
      "outputs": []
    },
    {
      "cell_type": "code",
      "metadata": {
        "id": "t1Qnd9QpDCAi",
        "colab_type": "code",
        "colab": {
          "base_uri": "https://localhost:8080/",
          "height": 1000
        },
        "outputId": "a062ddb6-a039-4a94-f34f-e87c4b622d17"
      },
      "source": [
        "%%bash\n",
        "python /content/drive/My\\ Drive/Colab\\ Notebooks/Mask_RCNN/samples/balloon/balloon.py splash --weights=/content/drive/My\\ Drive/Colab\\ Notebooks/Mask_RCNN/samples/balloon/mask_rcnn_balloon.h5 --video=bal_Trim.mp4"
      ],
      "execution_count": null,
      "outputs": [
        {
          "output_type": "stream",
          "text": [
            "Weights:  /content/drive/My Drive/Colab Notebooks/Mask_RCNN/samples/balloon/mask_rcnn_balloon.h5\n",
            "Dataset:  None\n",
            "Logs:  /logs\n",
            "\n",
            "Configurations:\n",
            "BACKBONE                       resnet101\n",
            "BACKBONE_STRIDES               [4, 8, 16, 32, 64]\n",
            "BATCH_SIZE                     1\n",
            "BBOX_STD_DEV                   [0.1 0.1 0.2 0.2]\n",
            "COMPUTE_BACKBONE_SHAPE         None\n",
            "DETECTION_MAX_INSTANCES        100\n",
            "DETECTION_MIN_CONFIDENCE       0.9\n",
            "DETECTION_NMS_THRESHOLD        0.3\n",
            "FPN_CLASSIF_FC_LAYERS_SIZE     1024\n",
            "GPU_COUNT                      1\n",
            "GRADIENT_CLIP_NORM             5.0\n",
            "IMAGES_PER_GPU                 1\n",
            "IMAGE_CHANNEL_COUNT            3\n",
            "IMAGE_MAX_DIM                  1024\n",
            "IMAGE_META_SIZE                14\n",
            "IMAGE_MIN_DIM                  800\n",
            "IMAGE_MIN_SCALE                0\n",
            "IMAGE_RESIZE_MODE              square\n",
            "IMAGE_SHAPE                    [1024 1024    3]\n",
            "LEARNING_MOMENTUM              0.9\n",
            "LEARNING_RATE                  0.001\n",
            "LOSS_WEIGHTS                   {'rpn_class_loss': 1.0, 'rpn_bbox_loss': 1.0, 'mrcnn_class_loss': 1.0, 'mrcnn_bbox_loss': 1.0, 'mrcnn_mask_loss': 1.0}\n",
            "MASK_POOL_SIZE                 14\n",
            "MASK_SHAPE                     [28, 28]\n",
            "MAX_GT_INSTANCES               100\n",
            "MEAN_PIXEL                     [123.7 116.8 103.9]\n",
            "MINI_MASK_SHAPE                (56, 56)\n",
            "NAME                           balloon\n",
            "NUM_CLASSES                    2\n",
            "POOL_SIZE                      7\n",
            "POST_NMS_ROIS_INFERENCE        1000\n",
            "POST_NMS_ROIS_TRAINING         2000\n",
            "PRE_NMS_LIMIT                  6000\n",
            "ROI_POSITIVE_RATIO             0.33\n",
            "RPN_ANCHOR_RATIOS              [0.5, 1, 2]\n",
            "RPN_ANCHOR_SCALES              (32, 64, 128, 256, 512)\n",
            "RPN_ANCHOR_STRIDE              1\n",
            "RPN_BBOX_STD_DEV               [0.1 0.1 0.2 0.2]\n",
            "RPN_NMS_THRESHOLD              0.7\n",
            "RPN_TRAIN_ANCHORS_PER_IMAGE    256\n",
            "STEPS_PER_EPOCH                100\n",
            "TOP_DOWN_PYRAMID_SIZE          256\n",
            "TRAIN_BN                       False\n",
            "TRAIN_ROIS_PER_IMAGE           200\n",
            "USE_MINI_MASK                  True\n",
            "USE_RPN_ROIS                   True\n",
            "VALIDATION_STEPS               50\n",
            "WEIGHT_DECAY                   0.0001\n",
            "\n",
            "\n",
            "Loading weights  /content/drive/My Drive/Colab Notebooks/Mask_RCNN/samples/balloon/mask_rcnn_balloon.h5\n",
            "frame:  0\n",
            "frame:  1\n",
            "frame:  2\n",
            "frame:  3\n",
            "frame:  4\n",
            "frame:  5\n",
            "frame:  6\n",
            "frame:  7\n",
            "frame:  8\n",
            "frame:  9\n",
            "frame:  10\n",
            "frame:  11\n",
            "frame:  12\n",
            "frame:  13\n",
            "frame:  14\n",
            "frame:  15\n",
            "frame:  16\n",
            "frame:  17\n",
            "frame:  18\n",
            "frame:  19\n",
            "frame:  20\n",
            "frame:  21\n",
            "frame:  22\n",
            "frame:  23\n",
            "frame:  24\n",
            "frame:  25\n",
            "frame:  26\n",
            "frame:  27\n",
            "frame:  28\n",
            "frame:  29\n",
            "frame:  30\n",
            "frame:  31\n",
            "frame:  32\n",
            "frame:  33\n",
            "frame:  34\n",
            "frame:  35\n",
            "frame:  36\n",
            "frame:  37\n",
            "frame:  38\n",
            "frame:  39\n",
            "frame:  40\n",
            "frame:  41\n",
            "frame:  42\n",
            "frame:  43\n",
            "frame:  44\n",
            "frame:  45\n",
            "frame:  46\n",
            "frame:  47\n",
            "frame:  48\n",
            "frame:  49\n",
            "frame:  50\n",
            "frame:  51\n",
            "frame:  52\n",
            "frame:  53\n",
            "frame:  54\n",
            "frame:  55\n",
            "frame:  56\n",
            "frame:  57\n",
            "frame:  58\n",
            "frame:  59\n",
            "frame:  60\n",
            "frame:  61\n",
            "frame:  62\n",
            "frame:  63\n",
            "frame:  64\n",
            "frame:  65\n",
            "frame:  66\n",
            "frame:  67\n",
            "frame:  68\n",
            "frame:  69\n",
            "frame:  70\n",
            "frame:  71\n",
            "frame:  72\n",
            "frame:  73\n",
            "frame:  74\n",
            "frame:  75\n",
            "frame:  76\n",
            "frame:  77\n",
            "frame:  78\n",
            "frame:  79\n",
            "frame:  80\n",
            "frame:  81\n",
            "frame:  82\n",
            "frame:  83\n",
            "frame:  84\n",
            "frame:  85\n",
            "frame:  86\n",
            "frame:  87\n",
            "frame:  88\n",
            "frame:  89\n",
            "frame:  90\n",
            "frame:  91\n",
            "frame:  92\n",
            "frame:  93\n",
            "frame:  94\n",
            "frame:  95\n",
            "frame:  96\n",
            "frame:  97\n",
            "frame:  98\n",
            "frame:  99\n",
            "frame:  100\n",
            "frame:  101\n",
            "frame:  102\n",
            "frame:  103\n",
            "frame:  104\n",
            "frame:  105\n",
            "frame:  106\n",
            "frame:  107\n",
            "frame:  108\n",
            "frame:  109\n",
            "frame:  110\n",
            "frame:  111\n",
            "frame:  112\n",
            "frame:  113\n",
            "frame:  114\n",
            "frame:  115\n",
            "frame:  116\n",
            "frame:  117\n",
            "frame:  118\n",
            "frame:  119\n",
            "frame:  120\n",
            "frame:  121\n",
            "frame:  122\n",
            "frame:  123\n",
            "frame:  124\n",
            "frame:  125\n",
            "frame:  126\n",
            "frame:  127\n",
            "frame:  128\n",
            "frame:  129\n",
            "frame:  130\n",
            "frame:  131\n",
            "frame:  132\n",
            "frame:  133\n",
            "frame:  134\n",
            "frame:  135\n",
            "frame:  136\n",
            "frame:  137\n",
            "frame:  138\n",
            "frame:  139\n",
            "frame:  140\n",
            "frame:  141\n",
            "frame:  142\n",
            "frame:  143\n",
            "frame:  144\n",
            "frame:  145\n",
            "frame:  146\n",
            "frame:  147\n",
            "frame:  148\n",
            "frame:  149\n",
            "frame:  150\n",
            "frame:  151\n",
            "frame:  152\n",
            "frame:  153\n",
            "frame:  154\n",
            "frame:  155\n",
            "frame:  156\n",
            "frame:  157\n",
            "frame:  158\n",
            "frame:  159\n",
            "frame:  160\n",
            "frame:  161\n",
            "Saved to  splash_20200702T102640.avi\n"
          ],
          "name": "stdout"
        },
        {
          "output_type": "stream",
          "text": [
            "Using TensorFlow backend.\n",
            "WARNING:tensorflow:From /tensorflow-1.15.2/python3.6/tensorflow_core/python/ops/resource_variable_ops.py:1630: calling BaseResourceVariable.__init__ (from tensorflow.python.ops.resource_variable_ops) with constraint is deprecated and will be removed in a future version.\n",
            "Instructions for updating:\n",
            "If using Keras pass *_constraint arguments to layers.\n",
            "WARNING:tensorflow:From /usr/local/lib/python3.6/dist-packages/keras/backend/tensorflow_backend.py:4070: The name tf.nn.max_pool is deprecated. Please use tf.nn.max_pool2d instead.\n",
            "\n",
            "WARNING:tensorflow:From /content/drive/My Drive/Colab Notebooks/Mask_RCNN/mrcnn/model.py:341: The name tf.log is deprecated. Please use tf.math.log instead.\n",
            "\n",
            "WARNING:tensorflow:From /content/drive/My Drive/Colab Notebooks/Mask_RCNN/mrcnn/model.py:399: where (from tensorflow.python.ops.array_ops) is deprecated and will be removed in a future version.\n",
            "Instructions for updating:\n",
            "Use tf.where in 2.0, which has the same broadcast rule as np.where\n",
            "WARNING:tensorflow:From /content/drive/My Drive/Colab Notebooks/Mask_RCNN/mrcnn/model.py:423: calling crop_and_resize_v1 (from tensorflow.python.ops.image_ops_impl) with box_ind is deprecated and will be removed in a future version.\n",
            "Instructions for updating:\n",
            "box_ind is deprecated, use box_indices instead\n",
            "WARNING:tensorflow:From /content/drive/My Drive/Colab Notebooks/Mask_RCNN/mrcnn/model.py:720: The name tf.sets.set_intersection is deprecated. Please use tf.sets.intersection instead.\n",
            "\n",
            "WARNING:tensorflow:From /content/drive/My Drive/Colab Notebooks/Mask_RCNN/mrcnn/model.py:722: The name tf.sparse_tensor_to_dense is deprecated. Please use tf.sparse.to_dense instead.\n",
            "\n",
            "WARNING:tensorflow:From /content/drive/My Drive/Colab Notebooks/Mask_RCNN/mrcnn/model.py:772: to_float (from tensorflow.python.ops.math_ops) is deprecated and will be removed in a future version.\n",
            "Instructions for updating:\n",
            "Use `tf.cast` instead.\n",
            "2020-07-02 10:26:37.496526: I tensorflow/stream_executor/platform/default/dso_loader.cc:44] Successfully opened dynamic library libcuda.so.1\n",
            "2020-07-02 10:26:37.532364: I tensorflow/stream_executor/cuda/cuda_gpu_executor.cc:983] successful NUMA node read from SysFS had negative value (-1), but there must be at least one NUMA node, so returning NUMA node zero\n",
            "2020-07-02 10:26:37.532955: I tensorflow/core/common_runtime/gpu/gpu_device.cc:1639] Found device 0 with properties: \n",
            "name: Tesla T4 major: 7 minor: 5 memoryClockRate(GHz): 1.59\n",
            "pciBusID: 0000:00:04.0\n",
            "2020-07-02 10:26:37.533252: I tensorflow/stream_executor/platform/default/dso_loader.cc:44] Successfully opened dynamic library libcudart.so.10.1\n",
            "2020-07-02 10:26:37.534970: I tensorflow/stream_executor/platform/default/dso_loader.cc:44] Successfully opened dynamic library libcublas.so.10\n",
            "2020-07-02 10:26:37.536551: I tensorflow/stream_executor/platform/default/dso_loader.cc:44] Successfully opened dynamic library libcufft.so.10\n",
            "2020-07-02 10:26:37.536914: I tensorflow/stream_executor/platform/default/dso_loader.cc:44] Successfully opened dynamic library libcurand.so.10\n",
            "2020-07-02 10:26:37.538684: I tensorflow/stream_executor/platform/default/dso_loader.cc:44] Successfully opened dynamic library libcusolver.so.10\n",
            "2020-07-02 10:26:37.539845: I tensorflow/stream_executor/platform/default/dso_loader.cc:44] Successfully opened dynamic library libcusparse.so.10\n",
            "2020-07-02 10:26:37.543578: I tensorflow/stream_executor/platform/default/dso_loader.cc:44] Successfully opened dynamic library libcudnn.so.7\n",
            "2020-07-02 10:26:37.543698: I tensorflow/stream_executor/cuda/cuda_gpu_executor.cc:983] successful NUMA node read from SysFS had negative value (-1), but there must be at least one NUMA node, so returning NUMA node zero\n",
            "2020-07-02 10:26:37.544287: I tensorflow/stream_executor/cuda/cuda_gpu_executor.cc:983] successful NUMA node read from SysFS had negative value (-1), but there must be at least one NUMA node, so returning NUMA node zero\n",
            "2020-07-02 10:26:37.544794: I tensorflow/core/common_runtime/gpu/gpu_device.cc:1767] Adding visible gpu devices: 0\n",
            "2020-07-02 10:26:37.545124: I tensorflow/core/platform/cpu_feature_guard.cc:142] Your CPU supports instructions that this TensorFlow binary was not compiled to use: AVX512F\n",
            "2020-07-02 10:26:37.549957: I tensorflow/core/platform/profile_utils/cpu_utils.cc:94] CPU Frequency: 2000129999 Hz\n",
            "2020-07-02 10:26:37.550142: I tensorflow/compiler/xla/service/service.cc:168] XLA service 0x186b4a00 initialized for platform Host (this does not guarantee that XLA will be used). Devices:\n",
            "2020-07-02 10:26:37.550163: I tensorflow/compiler/xla/service/service.cc:176]   StreamExecutor device (0): Host, Default Version\n",
            "2020-07-02 10:26:37.654950: I tensorflow/stream_executor/cuda/cuda_gpu_executor.cc:983] successful NUMA node read from SysFS had negative value (-1), but there must be at least one NUMA node, so returning NUMA node zero\n",
            "2020-07-02 10:26:37.655615: I tensorflow/compiler/xla/service/service.cc:168] XLA service 0x186b4bc0 initialized for platform CUDA (this does not guarantee that XLA will be used). Devices:\n",
            "2020-07-02 10:26:37.655644: I tensorflow/compiler/xla/service/service.cc:176]   StreamExecutor device (0): Tesla T4, Compute Capability 7.5\n",
            "2020-07-02 10:26:37.655857: I tensorflow/stream_executor/cuda/cuda_gpu_executor.cc:983] successful NUMA node read from SysFS had negative value (-1), but there must be at least one NUMA node, so returning NUMA node zero\n",
            "2020-07-02 10:26:37.656370: I tensorflow/core/common_runtime/gpu/gpu_device.cc:1639] Found device 0 with properties: \n",
            "name: Tesla T4 major: 7 minor: 5 memoryClockRate(GHz): 1.59\n",
            "pciBusID: 0000:00:04.0\n",
            "2020-07-02 10:26:37.656436: I tensorflow/stream_executor/platform/default/dso_loader.cc:44] Successfully opened dynamic library libcudart.so.10.1\n",
            "2020-07-02 10:26:37.656466: I tensorflow/stream_executor/platform/default/dso_loader.cc:44] Successfully opened dynamic library libcublas.so.10\n",
            "2020-07-02 10:26:37.656488: I tensorflow/stream_executor/platform/default/dso_loader.cc:44] Successfully opened dynamic library libcufft.so.10\n",
            "2020-07-02 10:26:37.656511: I tensorflow/stream_executor/platform/default/dso_loader.cc:44] Successfully opened dynamic library libcurand.so.10\n",
            "2020-07-02 10:26:37.656531: I tensorflow/stream_executor/platform/default/dso_loader.cc:44] Successfully opened dynamic library libcusolver.so.10\n",
            "2020-07-02 10:26:37.656549: I tensorflow/stream_executor/platform/default/dso_loader.cc:44] Successfully opened dynamic library libcusparse.so.10\n",
            "2020-07-02 10:26:37.656569: I tensorflow/stream_executor/platform/default/dso_loader.cc:44] Successfully opened dynamic library libcudnn.so.7\n",
            "2020-07-02 10:26:37.656643: I tensorflow/stream_executor/cuda/cuda_gpu_executor.cc:983] successful NUMA node read from SysFS had negative value (-1), but there must be at least one NUMA node, so returning NUMA node zero\n",
            "2020-07-02 10:26:37.657218: I tensorflow/stream_executor/cuda/cuda_gpu_executor.cc:983] successful NUMA node read from SysFS had negative value (-1), but there must be at least one NUMA node, so returning NUMA node zero\n",
            "2020-07-02 10:26:37.657703: I tensorflow/core/common_runtime/gpu/gpu_device.cc:1767] Adding visible gpu devices: 0\n",
            "2020-07-02 10:26:37.657787: I tensorflow/stream_executor/platform/default/dso_loader.cc:44] Successfully opened dynamic library libcudart.so.10.1\n",
            "2020-07-02 10:26:37.658875: I tensorflow/core/common_runtime/gpu/gpu_device.cc:1180] Device interconnect StreamExecutor with strength 1 edge matrix:\n",
            "2020-07-02 10:26:37.658901: I tensorflow/core/common_runtime/gpu/gpu_device.cc:1186]      0 \n",
            "2020-07-02 10:26:37.658911: I tensorflow/core/common_runtime/gpu/gpu_device.cc:1199] 0:   N \n",
            "2020-07-02 10:26:37.659015: I tensorflow/stream_executor/cuda/cuda_gpu_executor.cc:983] successful NUMA node read from SysFS had negative value (-1), but there must be at least one NUMA node, so returning NUMA node zero\n",
            "2020-07-02 10:26:37.659549: I tensorflow/stream_executor/cuda/cuda_gpu_executor.cc:983] successful NUMA node read from SysFS had negative value (-1), but there must be at least one NUMA node, so returning NUMA node zero\n",
            "2020-07-02 10:26:37.660069: W tensorflow/core/common_runtime/gpu/gpu_bfc_allocator.cc:39] Overriding allow_growth setting because the TF_FORCE_GPU_ALLOW_GROWTH environment variable is set. Original config value was 0.\n",
            "2020-07-02 10:26:37.660127: I tensorflow/core/common_runtime/gpu/gpu_device.cc:1325] Created TensorFlow device (/job:localhost/replica:0/task:0/device:GPU:0 with 14221 MB memory) -> physical GPU (device: 0, name: Tesla T4, pci bus id: 0000:00:04.0, compute capability: 7.5)\n",
            "WARNING:tensorflow:From /usr/local/lib/python3.6/dist-packages/keras/backend/tensorflow_backend.py:422: The name tf.global_variables is deprecated. Please use tf.compat.v1.global_variables instead.\n",
            "\n",
            "2020-07-02 10:26:42.272188: I tensorflow/stream_executor/platform/default/dso_loader.cc:44] Successfully opened dynamic library libcublas.so.10\n",
            "2020-07-02 10:26:42.575433: I tensorflow/stream_executor/platform/default/dso_loader.cc:44] Successfully opened dynamic library libcudnn.so.7\n"
          ],
          "name": "stderr"
        }
      ]
    }
  ]
}