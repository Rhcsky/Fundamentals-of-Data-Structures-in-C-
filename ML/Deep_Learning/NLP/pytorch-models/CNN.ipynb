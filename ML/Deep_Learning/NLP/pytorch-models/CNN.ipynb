{
  "nbformat": 4,
  "nbformat_minor": 0,
  "metadata": {
    "kernelspec": {
      "name": "python3",
      "display_name": "Python 3"
    },
    "language_info": {
      "codemirror_mode": {
        "name": "ipython",
        "version": 3
      },
      "file_extension": ".py",
      "mimetype": "text/x-python",
      "name": "python",
      "nbconvert_exporter": "python",
      "pygments_lexer": "ipython3",
      "version": "3.7.0"
    },
    "colab": {
      "name": "CNN_Final",
      "provenance": [],
      "collapsed_sections": [],
      "toc_visible": true,
      "include_colab_link": true
    },
    "accelerator": "GPU",
    "widgets": {
      "application/vnd.jupyter.widget-state+json": {
        "d8effe8c795c4f1d9eb59be6b21c8e5c": {
          "model_module": "@jupyter-widgets/controls",
          "model_name": "HBoxModel",
          "state": {
            "_view_name": "HBoxView",
            "_dom_classes": [],
            "_model_name": "HBoxModel",
            "_view_module": "@jupyter-widgets/controls",
            "_model_module_version": "1.5.0",
            "_view_count": null,
            "_view_module_version": "1.5.0",
            "box_style": "",
            "layout": "IPY_MODEL_b9078f4cd495495195a41d208d8141b4",
            "_model_module": "@jupyter-widgets/controls",
            "children": [
              "IPY_MODEL_55ad285ec3904849aaa6e7cee01b600c",
              "IPY_MODEL_bb5b535872ee467f8d692269cc5c2f99"
            ]
          }
        },
        "b9078f4cd495495195a41d208d8141b4": {
          "model_module": "@jupyter-widgets/base",
          "model_name": "LayoutModel",
          "state": {
            "_view_name": "LayoutView",
            "grid_template_rows": null,
            "right": null,
            "justify_content": null,
            "_view_module": "@jupyter-widgets/base",
            "overflow": null,
            "_model_module_version": "1.2.0",
            "_view_count": null,
            "flex_flow": null,
            "width": null,
            "min_width": null,
            "border": null,
            "align_items": null,
            "bottom": null,
            "_model_module": "@jupyter-widgets/base",
            "top": null,
            "grid_column": null,
            "overflow_y": null,
            "overflow_x": null,
            "grid_auto_flow": null,
            "grid_area": null,
            "grid_template_columns": null,
            "flex": null,
            "_model_name": "LayoutModel",
            "justify_items": null,
            "grid_row": null,
            "max_height": null,
            "align_content": null,
            "visibility": null,
            "align_self": null,
            "height": null,
            "min_height": null,
            "padding": null,
            "grid_auto_rows": null,
            "grid_gap": null,
            "max_width": null,
            "order": null,
            "_view_module_version": "1.2.0",
            "grid_template_areas": null,
            "object_position": null,
            "object_fit": null,
            "grid_auto_columns": null,
            "margin": null,
            "display": null,
            "left": null
          }
        },
        "55ad285ec3904849aaa6e7cee01b600c": {
          "model_module": "@jupyter-widgets/controls",
          "model_name": "IntProgressModel",
          "state": {
            "_view_name": "ProgressView",
            "style": "IPY_MODEL_5af486e93b724ceab56590210b24bfc6",
            "_dom_classes": [],
            "description": "EPOCH",
            "_model_name": "IntProgressModel",
            "bar_style": "success",
            "max": 1,
            "_view_module": "@jupyter-widgets/controls",
            "_model_module_version": "1.5.0",
            "value": 1,
            "_view_count": null,
            "_view_module_version": "1.5.0",
            "orientation": "horizontal",
            "min": 0,
            "description_tooltip": null,
            "_model_module": "@jupyter-widgets/controls",
            "layout": "IPY_MODEL_fc6695f3a4e649719666178344b2a030"
          }
        },
        "bb5b535872ee467f8d692269cc5c2f99": {
          "model_module": "@jupyter-widgets/controls",
          "model_name": "HTMLModel",
          "state": {
            "_view_name": "HTMLView",
            "style": "IPY_MODEL_a0737a31334e436fbcb0ed5d7b4a8dd9",
            "_dom_classes": [],
            "description": "",
            "_model_name": "HTMLModel",
            "placeholder": "​",
            "_view_module": "@jupyter-widgets/controls",
            "_model_module_version": "1.5.0",
            "value": "100% 1/1 [01:00&lt;00:00, 60.83s/it]",
            "_view_count": null,
            "_view_module_version": "1.5.0",
            "description_tooltip": null,
            "_model_module": "@jupyter-widgets/controls",
            "layout": "IPY_MODEL_93796e61fc814141aa20432dbfe4fb94"
          }
        },
        "5af486e93b724ceab56590210b24bfc6": {
          "model_module": "@jupyter-widgets/controls",
          "model_name": "ProgressStyleModel",
          "state": {
            "_view_name": "StyleView",
            "_model_name": "ProgressStyleModel",
            "description_width": "initial",
            "_view_module": "@jupyter-widgets/base",
            "_model_module_version": "1.5.0",
            "_view_count": null,
            "_view_module_version": "1.2.0",
            "bar_color": null,
            "_model_module": "@jupyter-widgets/controls"
          }
        },
        "fc6695f3a4e649719666178344b2a030": {
          "model_module": "@jupyter-widgets/base",
          "model_name": "LayoutModel",
          "state": {
            "_view_name": "LayoutView",
            "grid_template_rows": null,
            "right": null,
            "justify_content": null,
            "_view_module": "@jupyter-widgets/base",
            "overflow": null,
            "_model_module_version": "1.2.0",
            "_view_count": null,
            "flex_flow": null,
            "width": null,
            "min_width": null,
            "border": null,
            "align_items": null,
            "bottom": null,
            "_model_module": "@jupyter-widgets/base",
            "top": null,
            "grid_column": null,
            "overflow_y": null,
            "overflow_x": null,
            "grid_auto_flow": null,
            "grid_area": null,
            "grid_template_columns": null,
            "flex": null,
            "_model_name": "LayoutModel",
            "justify_items": null,
            "grid_row": null,
            "max_height": null,
            "align_content": null,
            "visibility": null,
            "align_self": null,
            "height": null,
            "min_height": null,
            "padding": null,
            "grid_auto_rows": null,
            "grid_gap": null,
            "max_width": null,
            "order": null,
            "_view_module_version": "1.2.0",
            "grid_template_areas": null,
            "object_position": null,
            "object_fit": null,
            "grid_auto_columns": null,
            "margin": null,
            "display": null,
            "left": null
          }
        },
        "a0737a31334e436fbcb0ed5d7b4a8dd9": {
          "model_module": "@jupyter-widgets/controls",
          "model_name": "DescriptionStyleModel",
          "state": {
            "_view_name": "StyleView",
            "_model_name": "DescriptionStyleModel",
            "description_width": "",
            "_view_module": "@jupyter-widgets/base",
            "_model_module_version": "1.5.0",
            "_view_count": null,
            "_view_module_version": "1.2.0",
            "_model_module": "@jupyter-widgets/controls"
          }
        },
        "93796e61fc814141aa20432dbfe4fb94": {
          "model_module": "@jupyter-widgets/base",
          "model_name": "LayoutModel",
          "state": {
            "_view_name": "LayoutView",
            "grid_template_rows": null,
            "right": null,
            "justify_content": null,
            "_view_module": "@jupyter-widgets/base",
            "overflow": null,
            "_model_module_version": "1.2.0",
            "_view_count": null,
            "flex_flow": null,
            "width": null,
            "min_width": null,
            "border": null,
            "align_items": null,
            "bottom": null,
            "_model_module": "@jupyter-widgets/base",
            "top": null,
            "grid_column": null,
            "overflow_y": null,
            "overflow_x": null,
            "grid_auto_flow": null,
            "grid_area": null,
            "grid_template_columns": null,
            "flex": null,
            "_model_name": "LayoutModel",
            "justify_items": null,
            "grid_row": null,
            "max_height": null,
            "align_content": null,
            "visibility": null,
            "align_self": null,
            "height": null,
            "min_height": null,
            "padding": null,
            "grid_auto_rows": null,
            "grid_gap": null,
            "max_width": null,
            "order": null,
            "_view_module_version": "1.2.0",
            "grid_template_areas": null,
            "object_position": null,
            "object_fit": null,
            "grid_auto_columns": null,
            "margin": null,
            "display": null,
            "left": null
          }
        },
        "95b2f42f847447858b6071202f8aa1f2": {
          "model_module": "@jupyter-widgets/controls",
          "model_name": "HBoxModel",
          "state": {
            "_view_name": "HBoxView",
            "_dom_classes": [],
            "_model_name": "HBoxModel",
            "_view_module": "@jupyter-widgets/controls",
            "_model_module_version": "1.5.0",
            "_view_count": null,
            "_view_module_version": "1.5.0",
            "box_style": "",
            "layout": "IPY_MODEL_4032378301f145a0ac4b9f89ea8f0a64",
            "_model_module": "@jupyter-widgets/controls",
            "children": [
              "IPY_MODEL_32723a3f2c404e158dfe1f9b403aee79",
              "IPY_MODEL_07c9d5df5b494ab3afb34fb1cb7d8513"
            ]
          }
        },
        "4032378301f145a0ac4b9f89ea8f0a64": {
          "model_module": "@jupyter-widgets/base",
          "model_name": "LayoutModel",
          "state": {
            "_view_name": "LayoutView",
            "grid_template_rows": null,
            "right": null,
            "justify_content": null,
            "_view_module": "@jupyter-widgets/base",
            "overflow": null,
            "_model_module_version": "1.2.0",
            "_view_count": null,
            "flex_flow": null,
            "width": null,
            "min_width": null,
            "border": null,
            "align_items": null,
            "bottom": null,
            "_model_module": "@jupyter-widgets/base",
            "top": null,
            "grid_column": null,
            "overflow_y": null,
            "overflow_x": null,
            "grid_auto_flow": null,
            "grid_area": null,
            "grid_template_columns": null,
            "flex": null,
            "_model_name": "LayoutModel",
            "justify_items": null,
            "grid_row": null,
            "max_height": null,
            "align_content": null,
            "visibility": null,
            "align_self": null,
            "height": null,
            "min_height": null,
            "padding": null,
            "grid_auto_rows": null,
            "grid_gap": null,
            "max_width": null,
            "order": null,
            "_view_module_version": "1.2.0",
            "grid_template_areas": null,
            "object_position": null,
            "object_fit": null,
            "grid_auto_columns": null,
            "margin": null,
            "display": null,
            "left": null
          }
        },
        "32723a3f2c404e158dfe1f9b403aee79": {
          "model_module": "@jupyter-widgets/controls",
          "model_name": "IntProgressModel",
          "state": {
            "_view_name": "ProgressView",
            "style": "IPY_MODEL_f9e089fa880444a3a1297d5eef045c60",
            "_dom_classes": [],
            "description": "TRAIN",
            "_model_name": "IntProgressModel",
            "bar_style": "success",
            "max": 290,
            "_view_module": "@jupyter-widgets/controls",
            "_model_module_version": "1.5.0",
            "value": 290,
            "_view_count": null,
            "_view_module_version": "1.5.0",
            "orientation": "horizontal",
            "min": 0,
            "description_tooltip": null,
            "_model_module": "@jupyter-widgets/controls",
            "layout": "IPY_MODEL_4425d832e3104caab6f8556869348bea"
          }
        },
        "07c9d5df5b494ab3afb34fb1cb7d8513": {
          "model_module": "@jupyter-widgets/controls",
          "model_name": "HTMLModel",
          "state": {
            "_view_name": "HTMLView",
            "style": "IPY_MODEL_c7768fd0adfc4b7d9c204fffbaab3af7",
            "_dom_classes": [],
            "description": "",
            "_model_name": "HTMLModel",
            "placeholder": "​",
            "_view_module": "@jupyter-widgets/controls",
            "_model_module_version": "1.5.0",
            "value": "100% 290/290 [01:00&lt;00:00,  4.84it/s]",
            "_view_count": null,
            "_view_module_version": "1.5.0",
            "description_tooltip": null,
            "_model_module": "@jupyter-widgets/controls",
            "layout": "IPY_MODEL_6ab3c55c1dbd42e8918adf927168f6b1"
          }
        },
        "f9e089fa880444a3a1297d5eef045c60": {
          "model_module": "@jupyter-widgets/controls",
          "model_name": "ProgressStyleModel",
          "state": {
            "_view_name": "StyleView",
            "_model_name": "ProgressStyleModel",
            "description_width": "initial",
            "_view_module": "@jupyter-widgets/base",
            "_model_module_version": "1.5.0",
            "_view_count": null,
            "_view_module_version": "1.2.0",
            "bar_color": null,
            "_model_module": "@jupyter-widgets/controls"
          }
        },
        "4425d832e3104caab6f8556869348bea": {
          "model_module": "@jupyter-widgets/base",
          "model_name": "LayoutModel",
          "state": {
            "_view_name": "LayoutView",
            "grid_template_rows": null,
            "right": null,
            "justify_content": null,
            "_view_module": "@jupyter-widgets/base",
            "overflow": null,
            "_model_module_version": "1.2.0",
            "_view_count": null,
            "flex_flow": null,
            "width": null,
            "min_width": null,
            "border": null,
            "align_items": null,
            "bottom": null,
            "_model_module": "@jupyter-widgets/base",
            "top": null,
            "grid_column": null,
            "overflow_y": null,
            "overflow_x": null,
            "grid_auto_flow": null,
            "grid_area": null,
            "grid_template_columns": null,
            "flex": null,
            "_model_name": "LayoutModel",
            "justify_items": null,
            "grid_row": null,
            "max_height": null,
            "align_content": null,
            "visibility": null,
            "align_self": null,
            "height": null,
            "min_height": null,
            "padding": null,
            "grid_auto_rows": null,
            "grid_gap": null,
            "max_width": null,
            "order": null,
            "_view_module_version": "1.2.0",
            "grid_template_areas": null,
            "object_position": null,
            "object_fit": null,
            "grid_auto_columns": null,
            "margin": null,
            "display": null,
            "left": null
          }
        },
        "c7768fd0adfc4b7d9c204fffbaab3af7": {
          "model_module": "@jupyter-widgets/controls",
          "model_name": "DescriptionStyleModel",
          "state": {
            "_view_name": "StyleView",
            "_model_name": "DescriptionStyleModel",
            "description_width": "",
            "_view_module": "@jupyter-widgets/base",
            "_model_module_version": "1.5.0",
            "_view_count": null,
            "_view_module_version": "1.2.0",
            "_model_module": "@jupyter-widgets/controls"
          }
        },
        "6ab3c55c1dbd42e8918adf927168f6b1": {
          "model_module": "@jupyter-widgets/base",
          "model_name": "LayoutModel",
          "state": {
            "_view_name": "LayoutView",
            "grid_template_rows": null,
            "right": null,
            "justify_content": null,
            "_view_module": "@jupyter-widgets/base",
            "overflow": null,
            "_model_module_version": "1.2.0",
            "_view_count": null,
            "flex_flow": null,
            "width": null,
            "min_width": null,
            "border": null,
            "align_items": null,
            "bottom": null,
            "_model_module": "@jupyter-widgets/base",
            "top": null,
            "grid_column": null,
            "overflow_y": null,
            "overflow_x": null,
            "grid_auto_flow": null,
            "grid_area": null,
            "grid_template_columns": null,
            "flex": null,
            "_model_name": "LayoutModel",
            "justify_items": null,
            "grid_row": null,
            "max_height": null,
            "align_content": null,
            "visibility": null,
            "align_self": null,
            "height": null,
            "min_height": null,
            "padding": null,
            "grid_auto_rows": null,
            "grid_gap": null,
            "max_width": null,
            "order": null,
            "_view_module_version": "1.2.0",
            "grid_template_areas": null,
            "object_position": null,
            "object_fit": null,
            "grid_auto_columns": null,
            "margin": null,
            "display": null,
            "left": null
          }
        }
      }
    }
  },
  "cells": [
    {
      "cell_type": "markdown",
      "metadata": {
        "id": "view-in-github",
        "colab_type": "text"
      },
      "source": [
        "<a href=\"https://colab.research.google.com/github/Rhcsky/Colab-pytorch/blob/master/CNN_Final.ipynb\" target=\"_parent\"><img src=\"https://colab.research.google.com/assets/colab-badge.svg\" alt=\"Open In Colab\"/></a>"
      ]
    },
    {
      "cell_type": "code",
      "metadata": {
        "id": "IhSqwy51j84t",
        "colab_type": "code",
        "outputId": "57caa403-02c2-4ccf-99f2-8d8c85b604ba",
        "colab": {
          "base_uri": "https://localhost:8080/",
          "height": 125
        }
      },
      "source": [
        "from google.colab import drive\n",
        "drive.mount('/content/drive')"
      ],
      "execution_count": 0,
      "outputs": [
        {
          "output_type": "stream",
          "text": [
            "Go to this URL in a browser: https://accounts.google.com/o/oauth2/auth?client_id=947318989803-6bn6qk8qdgf4n4g3pfee6491hc0brc4i.apps.googleusercontent.com&redirect_uri=urn%3aietf%3awg%3aoauth%3a2.0%3aoob&response_type=code&scope=email%20https%3a%2f%2fwww.googleapis.com%2fauth%2fdocs.test%20https%3a%2f%2fwww.googleapis.com%2fauth%2fdrive%20https%3a%2f%2fwww.googleapis.com%2fauth%2fdrive.photos.readonly%20https%3a%2f%2fwww.googleapis.com%2fauth%2fpeopleapi.readonly\n",
            "\n",
            "Enter your authorization code:\n",
            "··········\n",
            "Mounted at /content/drive\n"
          ],
          "name": "stdout"
        }
      ]
    },
    {
      "cell_type": "markdown",
      "metadata": {
        "id": "EBg3EwTYaock",
        "colab_type": "text"
      },
      "source": [
        "## Preparing Data"
      ]
    },
    {
      "cell_type": "code",
      "metadata": {
        "id": "UnG033_fkH8w",
        "colab_type": "code",
        "outputId": "23c79d2d-0fa8-49b3-fd25-06a247c530af",
        "colab": {
          "base_uri": "https://localhost:8080/",
          "height": 34
        }
      },
      "source": [
        "import torch\n",
        "import torch.nn as nn\n",
        "import torch.nn.functional as F\n",
        "import torch.optim as optim\n",
        "from torch.utils.tensorboard import SummaryWriter\n",
        "from torch.utils.data import Dataset, DataLoader, TensorDataset\n",
        "from torchtext.data import Field, LabelField, TabularDataset, Iterator, BucketIterator\n",
        "from torchtext import datasets\n",
        "\n",
        "import numpy as np\n",
        "import pandas\n",
        "import copy\n",
        "from tqdm import tqdm_notebook\n",
        "from sklearn.metrics import roc_auc_score\n",
        "\n",
        "device = torch.device('cuda' if torch.cuda.is_available() else 'cpu')\n",
        "print(device)\n",
        "\n",
        "tokenizer = 'soy_'"
      ],
      "execution_count": 0,
      "outputs": [
        {
          "output_type": "stream",
          "text": [
            "cuda\n"
          ],
          "name": "stdout"
        }
      ]
    },
    {
      "cell_type": "code",
      "metadata": {
        "id": "Iowe7PjEEyYD",
        "colab_type": "code",
        "colab": {}
      },
      "source": [
        "from collections import Counter\n",
        "min_freq = 10\n",
        "morphs = ['/OL']\n",
        "X = pandas.read_csv('/content/drive/My Drive/Colab Notebooks/data/soy_train.csv').text.tolist()\n",
        "X_text = [word for sent in X for word in sent.split()]\n",
        "word_counter = sorted(Counter(X_text).items(), key = lambda x: -x[1])\n",
        "word_dictionary = [word for word, freq in word_counter if freq > min_freq and all([morph in word for morph in morphs])]"
      ],
      "execution_count": 0,
      "outputs": []
    },
    {
      "cell_type": "code",
      "metadata": {
        "id": "x8yKyP4bD4JS",
        "colab_type": "code",
        "colab": {}
      },
      "source": [
        "def custom_tokenizer(sent):\n",
        "  splited = [word for word in sent.split() if word in word_dictionary]\n",
        "  return splited"
      ],
      "execution_count": 0,
      "outputs": []
    },
    {
      "cell_type": "code",
      "metadata": {
        "id": "1vSdcKXpkKek",
        "colab_type": "code",
        "colab": {}
      },
      "source": [
        "%%time\n",
        "\n",
        "ID = Field(sequential=False,use_vocab=False,batch_first=True)\n",
        "# TEXT = Field(tokenize = lambda x: custom_tokenizer(x), use_vocab=True,include_lengths=False,batch_first=True)\n",
        "TEXT = Field(use_vocab=True,include_lengths=False,batch_first=True)\n",
        "LABEL = LabelField(sequential=False,use_vocab=False, batch_first = True, preprocessing = lambda x : int(x),dtype = torch.float)\n",
        "data_fields = [('id',ID),('year_month',None),('text',TEXT),('smishing',LABEL)]"
      ],
      "execution_count": 0,
      "outputs": []
    },
    {
      "cell_type": "code",
      "metadata": {
        "id": "SKEaUoEYqFyN",
        "colab_type": "code",
        "colab": {}
      },
      "source": [
        "train_data = TabularDataset('/content/drive/My Drive/Colab Notebooks/rm_duplicate/' + tokenizer + 'train.csv','csv',data_fields,skip_header = True)"
      ],
      "execution_count": 0,
      "outputs": []
    },
    {
      "cell_type": "code",
      "metadata": {
        "id": "4GmAVEqno9qt",
        "colab_type": "code",
        "colab": {}
      },
      "source": [
        "import random\n",
        "train_data,valid_data = train_data.split(split_ratio=0.6,random_state=random.seed(1234),stratified=True, strata_field='smishing')"
      ],
      "execution_count": 0,
      "outputs": []
    },
    {
      "cell_type": "code",
      "metadata": {
        "id": "97sDQq45il0P",
        "colab_type": "code",
        "colab": {}
      },
      "source": [
        "valid_data, test_data = valid_data.split(split_ratio=0.6,random_state=random.seed(1234),stratified=True, strata_field='smishing')"
      ],
      "execution_count": 0,
      "outputs": []
    },
    {
      "cell_type": "markdown",
      "metadata": {
        "id": "70n_pH09aocp",
        "colab_type": "text"
      },
      "source": [
        "Build the vocab and load the pre-trained word embeddings."
      ]
    },
    {
      "cell_type": "code",
      "metadata": {
        "id": "lIC2cx9MpH07",
        "colab_type": "code",
        "colab": {}
      },
      "source": [
        "%%time\n",
        "dict_freq = 10\n",
        "TEXT.build_vocab(train_data, min_freq = dict_freq)\n",
        "print(len(TEXT.vocab))\n",
        "# train[0].__dict__.keys()"
      ],
      "execution_count": 0,
      "outputs": []
    },
    {
      "cell_type": "markdown",
      "metadata": {
        "id": "QKTUXA44aocs",
        "colab_type": "text"
      },
      "source": [
        "As before, we create the iterators."
      ]
    },
    {
      "cell_type": "code",
      "metadata": {
        "id": "14GncFLGaoct",
        "colab_type": "code",
        "colab": {}
      },
      "source": [
        "BATCH_SIZE = 1024\n",
        "\n",
        "train_iterator, valid_iterator, test_iterator = BucketIterator.splits(\n",
        "    (train_data, valid_data, test_data), \n",
        "    batch_size = BATCH_SIZE, \n",
        "    device = device,\n",
        "    sort_key = lambda x: len(x.text),\n",
        "    sort_within_batch=False\n",
        "    )"
      ],
      "execution_count": 0,
      "outputs": []
    },
    {
      "cell_type": "markdown",
      "metadata": {
        "id": "lNIxlzhtaocw",
        "colab_type": "text"
      },
      "source": [
        "## Build the Model"
      ]
    },
    {
      "cell_type": "code",
      "metadata": {
        "id": "40QzzLFmaoc1",
        "colab_type": "code",
        "colab": {}
      },
      "source": [
        "class CNN(nn.Module):\n",
        "    def __init__(self, vocab_size, embedding_dim, n_filters, filter_sizes, output_dim, \n",
        "                 dropout, pad_idx):\n",
        "        \n",
        "        super().__init__()\n",
        "                \n",
        "        self.embedding = nn.Embedding(vocab_size, embedding_dim, padding_idx = pad_idx)\n",
        "        \n",
        "        self.convs = nn.ModuleList([\n",
        "                                    nn.Conv2d(in_channels = 1, \n",
        "                                              out_channels = n_filters, \n",
        "                                              kernel_size = (fs, embedding_dim)) \n",
        "                                    for fs in filter_sizes\n",
        "                                    ])\n",
        "        \n",
        "        self.fc = nn.Linear(len(filter_sizes) * n_filters, output_dim)\n",
        "        \n",
        "        self.dropout = nn.Dropout(dropout)\n",
        "        \n",
        "    def forward(self, text):\n",
        "                \n",
        "        #text = [batch size, sent len]\n",
        "        \n",
        "        embedded = self.embedding(text)\n",
        "                \n",
        "        #embedded = [batch size, sent len, emb dim]\n",
        "        \n",
        "        embedded = embedded.unsqueeze(1)\n",
        "        \n",
        "        #embedded = [batch size, 1, sent len, emb dim]\n",
        "        \n",
        "        conved = [F.relu(conv(embedded)).squeeze(3) for conv in self.convs]\n",
        "            \n",
        "        #conved_n = [batch size, n_filters, sent len - filter_sizes[n] + 1]\n",
        "                \n",
        "        pooled = [F.max_pool1d(conv, conv.shape[2]).squeeze(2) for conv in conved]\n",
        "        \n",
        "        #pooled_n = [batch size, n_filters]\n",
        "        \n",
        "        cat = self.dropout(torch.cat(pooled, dim = 1))\n",
        "\n",
        "        #cat = [batch size, n_filters * len(filter_sizes)]\n",
        "            \n",
        "        return self.fc(cat)"
      ],
      "execution_count": 0,
      "outputs": []
    },
    {
      "cell_type": "code",
      "metadata": {
        "id": "Ezq9jAWNaoc7",
        "colab_type": "code",
        "colab": {}
      },
      "source": [
        "torch.cuda.empty_cache()\n",
        "\n",
        "INPUT_DIM = len(TEXT.vocab)\n",
        "EMBEDDING_DIM = 128\n",
        "N_FILTERS = 128\n",
        "FILTER_SIZES = [3,4,5]\n",
        "OUTPUT_DIM = 1\n",
        "DROPOUT = 0.5\n",
        "PAD_IDX = TEXT.vocab.stoi[TEXT.pad_token]\n",
        "\n",
        "model = CNN(INPUT_DIM, EMBEDDING_DIM, N_FILTERS, FILTER_SIZES, OUTPUT_DIM, DROPOUT, PAD_IDX)\n",
        "\n",
        "optimizer = optim.Adam(model.parameters(),0.001)\n",
        "criterion = nn.BCEWithLogitsLoss(reduction='sum')\n",
        "\n",
        "model = model.to(device)\n",
        "criterion = criterion.to(device)"
      ],
      "execution_count": 0,
      "outputs": []
    },
    {
      "cell_type": "code",
      "metadata": {
        "id": "SGewwSpvaodA",
        "colab_type": "code",
        "colab": {}
      },
      "source": [
        "def count_parameters(model):\n",
        "    return sum(p.numel() for p in model.parameters() if p.requires_grad)\n",
        "\n",
        "print(f'The model has {count_parameters(model):,} trainable parameters')"
      ],
      "execution_count": 0,
      "outputs": []
    },
    {
      "cell_type": "markdown",
      "metadata": {
        "id": "xPLUiou9aodJ",
        "colab_type": "text"
      },
      "source": [
        "## Train the Model"
      ]
    },
    {
      "cell_type": "code",
      "metadata": {
        "id": "3ziNEuVhaodQ",
        "colab_type": "code",
        "colab": {}
      },
      "source": [
        "def binary_accuracy(preds, y):\n",
        "    \"\"\"\n",
        "    Returns accuracy per batch, i.e. if you get 8/10 right, this returns 0.8, NOT 8\n",
        "    \"\"\"\n",
        "\n",
        "    #round predictions to the closest integer\n",
        "    rounded_preds = torch.round(torch.sigmoid(preds))\n",
        "    correct = (rounded_preds == y).float() #convert into float for division\n",
        "    acc = correct.sum() / len(correct)\n",
        "    error = len(correct) - correct.sum()\n",
        "    return acc, error"
      ],
      "execution_count": 0,
      "outputs": []
    },
    {
      "cell_type": "code",
      "metadata": {
        "id": "xUXFmj-kaodT",
        "colab_type": "code",
        "colab": {}
      },
      "source": [
        "def train(model, iterator, optimizer, criterion):\n",
        "    \n",
        "    epoch_loss = 0\n",
        "    epoch_acc = 0\n",
        "    epoch_error = 0\n",
        "    \n",
        "    model.train()\n",
        "    \n",
        "    for batch in tqdm_notebook(iterator,desc='TRAIN'):\n",
        "        \n",
        "        optimizer.zero_grad()\n",
        "        \n",
        "        predictions = model(batch.text).squeeze(1)\n",
        "        \n",
        "        loss = criterion(predictions, batch.smishing)\n",
        "        \n",
        "        acc, error = binary_accuracy(predictions, batch.smishing)\n",
        "        \n",
        "        loss.backward()\n",
        "        \n",
        "        optimizer.step()\n",
        "        \n",
        "        epoch_loss += loss.item()\n",
        "        epoch_acc += acc.item()\n",
        "        epoch_error += error.item()\n",
        "        \n",
        "    return epoch_loss / len(iterator), epoch_acc / len(iterator), epoch_error"
      ],
      "execution_count": 0,
      "outputs": []
    },
    {
      "cell_type": "code",
      "metadata": {
        "id": "aB0bRnauaodV",
        "colab_type": "code",
        "colab": {}
      },
      "source": [
        "def evaluate(model, iterator, criterion):\n",
        "    \n",
        "    epoch_loss = 0\n",
        "    epoch_acc = 0\n",
        "    epoch_error = 0\n",
        "    error_list = []\n",
        "\n",
        "    model.eval()\n",
        "    with torch.no_grad():\n",
        "    \n",
        "        for batch in tqdm_notebook(iterator,desc='EVAL '):\n",
        "\n",
        "            predictions = model(batch.text).squeeze(1)\n",
        "            \n",
        "            loss = criterion(predictions, batch.smishing)\n",
        "            \n",
        "            acc,error = binary_accuracy(predictions, batch.smishing)\n",
        "\n",
        "            rounded_preds = torch.round(torch.sigmoid(predictions))\n",
        "\n",
        "            noncorrect = (rounded_preds != batch.smishing).float()\n",
        "\n",
        "            for non, idx in zip(noncorrect,batch.id):\n",
        "              if non == 1:\n",
        "                error_list.append(idx.item())\n",
        "\n",
        "            # for label,smishing,idx in zip(label,batch.smishing,batch.id):\n",
        "            #   if label != smishing:\n",
        "            #     error_list.append(idx)\n",
        "\n",
        "            epoch_loss += loss.item()\n",
        "            epoch_acc += acc.item()\n",
        "            epoch_error += error.item()\n",
        "        \n",
        "    return epoch_loss / len(iterator), epoch_acc / len(iterator), epoch_error, error_list"
      ],
      "execution_count": 0,
      "outputs": []
    },
    {
      "cell_type": "code",
      "metadata": {
        "scrolled": true,
        "id": "KJdS9_5Gaodb",
        "colab_type": "code",
        "colab": {}
      },
      "source": [
        "N_EPOCHS = 5\n",
        "\n",
        "best_valid_loss = float('inf')\n",
        "\n",
        "for epoch in tqdm_notebook(range(N_EPOCHS),desc='EPOCH'):\n",
        "\n",
        "    train_loss, train_acc ,train_error= train(model, train_iterator, optimizer, criterion)\n",
        "    valid_loss, valid_acc, valid_error, valid_error_list = evaluate(model, valid_iterator, criterion)\n",
        "    \n",
        "    print(f'\\tTrain. Error: {train_error:.1f} || Loss: {train_loss:.3f} || Acc: {train_acc*100:.2f}%')\n",
        "    print(f'\\tVal. Error: {valid_error:.1f} || Loss: {valid_loss:.3f} || Acc: {valid_acc*100:.2f}%')\n",
        "          \n",
        "    if valid_loss < best_valid_loss:\n",
        "        best_valid_loss = valid_loss\n",
        "        best_error_list = valid_error_list\n",
        "        print(f'\\t{epoch+1}. Best model is saved!!')\n",
        "        torch.save(model.state_dict(), 'model.pt')\n",
        "\n",
        "model.load_state_dict(torch.load('model.pt'))\n",
        "test_loss, test_acc, test_error, test_error_list = evaluate(model, test_iterator, criterion)\n",
        "print(f'\\nTest. Error: {test_error:.1f} || Loss: {test_loss:.3f} || Acc: {test_acc*100:.2f}%')\n",
        "print(\"\\nbest_error_list \", best_error_list)\n",
        "print(\"test_error_list \",test_error_list)"
      ],
      "execution_count": 0,
      "outputs": []
    },
    {
      "cell_type": "code",
      "metadata": {
        "id": "-TS5sDL8i-80",
        "colab_type": "code",
        "colab": {}
      },
      "source": [
        "ids = []\n",
        "labels = []\n",
        "pred_list = []\n",
        "\n",
        "model.load_state_dict(torch.load('model.pt'))\n",
        "model.eval()\n",
        "\n",
        "for data in test_data.:\n",
        "  if len(data.text) < 5:\n",
        "    data.text += ['<pad>'] * (5 - len(data.text))\n",
        "  indexed = [TEXT.vocab.stoi[t] for t in data.text]\n",
        "  tensor = torch.LongTensor(indexed).to(device)\n",
        "  tensor = tensor.unsqueeze(0)\n",
        "  pred = model(tensor)\n",
        "  predict = torch.sigmoid(model(tensor))\n",
        "\n",
        "  labels.append(torch.round(predict).item())\n",
        "  ids.append(data.id)\n",
        "  pred_list.append(predict.item())\n",
        "\n",
        "result_data = pandas.DataFrame({'id' : ids, 'smishing':pred_list})\n",
        "result_data.to_csv( str(N_EPOCHS) + 'over.csv',index=False)\n",
        "\n",
        "print(result_data)\n",
        "print(sum(labels))"
      ],
      "execution_count": 0,
      "outputs": []
    },
    {
      "cell_type": "code",
      "metadata": {
        "id": "xZVfFqcOwhCW",
        "colab_type": "code",
        "colab": {}
      },
      "source": [
        "pandas.set_option('display.max_rows', 20)\n",
        "pandas.set_option('display.width',3000)\n",
        "# text_data = pandas.read_csv('/content/drive/My Drive/Colab Notebooks/data/' + tokenizer + 'train.csv')\n",
        "a = text_data.loc[text_data['id'].isin(best_error_list)]\n",
        "\n",
        "a"
      ],
      "execution_count": 0,
      "outputs": []
    },
    {
      "cell_type": "code",
      "metadata": {
        "id": "6UWksxRFCVjL",
        "colab_type": "code",
        "colab": {}
      },
      "source": [
        "from sklearn.manifold import TSNE\n",
        "import plotly.graph_objs as go\n",
        "import plotly.offline as py\n",
        "## Get weights\n",
        "conv_embds = model.embedding.weight.cpu().detach().numpy()\n",
        "Visualizing_word_embedding = text_data\n",
        "print(Visualizing_word_embedding.head())\n",
        "aa = Visualizing_word_embedding.loc[Visualizing_word_embedding['id'].isin(best_error_list)].to_dict('records')[3:4]\n",
        "word_list = list({word for row in aa for word in row['text'].split()})\n",
        "\n",
        "word2index = TEXT.vocab.stoi\n",
        "\n",
        "conv_embds = [conv_embds[word2index[word]] for word in word_list]\n",
        "## Plotting function\n",
        "def plot_words(data, start, stop, step):\n",
        "    trace = go.Scatter(\n",
        "        x = data[start:stop:step,0], \n",
        "        y = data[start:stop:step, 1],\n",
        "        mode = 'markers',\n",
        "        text= word_list[start:stop:step]\n",
        "    )\n",
        "    layout = dict(title= 't-SNE 1 vs t-SNE 2',\n",
        "                  yaxis = dict(title='t-SNE 2'),\n",
        "                  xaxis = dict(title='t-SNE 1'),\n",
        "                  hovermode= 'closest')\n",
        "    fig = dict(data = [trace], layout= layout)\n",
        "    py.iplot(fig)\n",
        "## Visualize words in two dimensions \n",
        "conv_tsne_embds = TSNE(n_components=2).fit_transform(conv_embds)\n",
        "plot_words(conv_tsne_embds, 0, 2000, 1)"
      ],
      "execution_count": 0,
      "outputs": []
    },
    {
      "cell_type": "code",
      "metadata": {
        "id": "nMvY1rV8DZQt",
        "colab_type": "code",
        "outputId": "ce7a1650-43ab-4e67-f228-adb7492823d5",
        "colab": {
          "base_uri": "https://localhost:8080/",
          "height": 224
        }
      },
      "source": [
        "from sklearn.manifold import TSNE\n",
        "import plotly.graph_objs as go\n",
        "import plotly.offline as py\n",
        "## Get weights\n",
        "conv_embds = model.embedding.weight.cpu().detach().numpy()\n",
        "Visualizing_word_embedding = text_data\n",
        "aa = Visualizing_word_embedding.loc[Visualizing_word_embedding['id'].isin(best_error_list)].to_dict('records')\n",
        "words = {word for row in aa for word in row['text'].split()}\n",
        "\n",
        "word2index = TEXT.vocab.stoi\n",
        "\n",
        "word_index = [conv_embds[word2index[word]] for word in words]\n",
        "wegits = torch.empty((128,128))\n",
        "for idx, word in enumerate(word_index):\n",
        "  wegits[idx] = model.embedding.weight[word]\n"
      ],
      "execution_count": 0,
      "outputs": [
        {
          "output_type": "error",
          "ename": "RuntimeError",
          "evalue": "ignored",
          "traceback": [
            "\u001b[0;31m---------------------------------------------------------------------------\u001b[0m",
            "\u001b[0;31mRuntimeError\u001b[0m                              Traceback (most recent call last)",
            "\u001b[0;32m<ipython-input-112-a73263f0056e>\u001b[0m in \u001b[0;36m<module>\u001b[0;34m()\u001b[0m\n\u001b[1;32m     13\u001b[0m \u001b[0mwegits\u001b[0m \u001b[0;34m=\u001b[0m \u001b[0mtorch\u001b[0m\u001b[0;34m.\u001b[0m\u001b[0mempty\u001b[0m\u001b[0;34m(\u001b[0m\u001b[0;34m(\u001b[0m\u001b[0;36m128\u001b[0m\u001b[0;34m,\u001b[0m\u001b[0;36m128\u001b[0m\u001b[0;34m)\u001b[0m\u001b[0;34m)\u001b[0m\u001b[0;34m\u001b[0m\u001b[0;34m\u001b[0m\u001b[0m\n\u001b[1;32m     14\u001b[0m \u001b[0;32mfor\u001b[0m \u001b[0midx\u001b[0m\u001b[0;34m,\u001b[0m \u001b[0mword\u001b[0m \u001b[0;32min\u001b[0m \u001b[0menumerate\u001b[0m\u001b[0;34m(\u001b[0m\u001b[0mword_index\u001b[0m\u001b[0;34m)\u001b[0m\u001b[0;34m:\u001b[0m\u001b[0;34m\u001b[0m\u001b[0;34m\u001b[0m\u001b[0m\n\u001b[0;32m---> 15\u001b[0;31m   \u001b[0mwegits\u001b[0m\u001b[0;34m[\u001b[0m\u001b[0midx\u001b[0m\u001b[0;34m]\u001b[0m \u001b[0;34m=\u001b[0m \u001b[0mmodel\u001b[0m\u001b[0;34m.\u001b[0m\u001b[0membedding\u001b[0m\u001b[0;34m.\u001b[0m\u001b[0mweight\u001b[0m\u001b[0;34m[\u001b[0m\u001b[0mword\u001b[0m\u001b[0;34m]\u001b[0m\u001b[0;34m\u001b[0m\u001b[0;34m\u001b[0m\u001b[0m\n\u001b[0m",
            "\u001b[0;31mRuntimeError\u001b[0m: expand(torch.cuda.FloatTensor{[128, 128]}, size=[128]): the number of sizes provided (1) must be greater or equal to the number of dimensions in the tensor (2)"
          ]
        }
      ]
    },
    {
      "cell_type": "code",
      "metadata": {
        "id": "8kIDM72O_WSR",
        "colab_type": "code",
        "colab": {}
      },
      "source": [
        "writer = SummaryWriter('/content/drive/My Drive/Colab Notebooks/logs/embedding')\n",
        "\n",
        "writer.add_embedding(model.embedding.weight,metadata=TEXT.vocab.itos)"
      ],
      "execution_count": 0,
      "outputs": []
    },
    {
      "cell_type": "code",
      "metadata": {
        "id": "yDKEmm3z48t6",
        "colab_type": "code",
        "colab": {}
      },
      "source": [
        "# vocab = TEXT.vocab.itos\n",
        "# len(model.embedding.weight)\n",
        "weights_map = {}\n",
        "for voc,weight in zip(vocab,model.embedding.weight):\n",
        "  print(weight)\n",
        "  break\n",
        "  weights_map[voc] = "
      ],
      "execution_count": 0,
      "outputs": []
    },
    {
      "cell_type": "code",
      "metadata": {
        "id": "a_ReYhTO541P",
        "colab_type": "code",
        "outputId": "a8542657-5b2c-4d55-973f-85654874facc",
        "colab": {
          "base_uri": "https://localhost:8080/",
          "height": 34
        }
      },
      "source": [
        ""
      ],
      "execution_count": 0,
      "outputs": [
        {
          "output_type": "execute_result",
          "data": {
            "text/plain": [
              "dict_keys([])"
            ]
          },
          "metadata": {
            "tags": []
          },
          "execution_count": 89
        }
      ]
    },
    {
      "cell_type": "code",
      "metadata": {
        "id": "uGTnI-dRaodf",
        "colab_type": "code",
        "colab": {}
      },
      "source": [
        "# model.load_state_dict(torch.load('model.pt'))\n",
        "\n",
        "# test_loss, test_acc = evaluate(model, test_iterator, criterion)\n",
        "\n",
        "# print(f'Test Loss: {test_loss:.3f} | Test Acc: {test_acc*100:.2f}%')"
      ],
      "execution_count": 0,
      "outputs": []
    },
    {
      "cell_type": "markdown",
      "metadata": {
        "id": "4tcqHgnCaodk",
        "colab_type": "text"
      },
      "source": [
        "## Public Test"
      ]
    },
    {
      "cell_type": "code",
      "metadata": {
        "id": "CHzyq7tS2zcO",
        "colab_type": "code",
        "outputId": "90ad26fc-7caf-4224-83f6-f5a648540bf5",
        "colab": {
          "base_uri": "https://localhost:8080/",
          "height": 34
        }
      },
      "source": [
        "alltrain_data = TabularDataset('/content/drive/My Drive/Colab Notebooks/data/soy_train.csv','csv',data_fields,skip_header=True,)\n",
        "\n",
        "dict_freq = 350\n",
        "TEXT.build_vocab(alltrain_data,min_freq = dict_freq)\n",
        "print(len(TEXT.vocab))\n",
        "\n",
        "BATCH_SIZE = 1024\n",
        "\n",
        "alltrain_iterator = BucketIterator(\n",
        "    (alltrain_data),\n",
        "    batch_size = BATCH_SIZE, \n",
        "    device = device,\n",
        "    sort_key = lambda x: len(x.text),\n",
        "    sort_within_batch=False\n",
        "    )"
      ],
      "execution_count": 0,
      "outputs": [
        {
          "output_type": "stream",
          "text": [
            "3530\n"
          ],
          "name": "stdout"
        }
      ]
    },
    {
      "cell_type": "code",
      "metadata": {
        "id": "2Fk7QA_f3fr8",
        "colab_type": "code",
        "colab": {}
      },
      "source": [
        "INPUT_DIM = len(TEXT.vocab)\n",
        "EMBEDDING_DIM = 128\n",
        "N_FILTERS = 128\n",
        "FILTER_SIZES = [3,4,5]\n",
        "OUTPUT_DIM = 1\n",
        "DROPOUT = 0.5\n",
        "PAD_IDX = TEXT.vocab.stoi[TEXT.pad_token]\n",
        "\n",
        "model = CNN(INPUT_DIM, EMBEDDING_DIM, N_FILTERS, FILTER_SIZES, OUTPUT_DIM, DROPOUT, PAD_IDX)\n",
        "\n",
        "optimizer = optim.Adam(model.parameters(),0.001)\n",
        "criterion = nn.BCEWithLogitsLoss(reduction='sum')\n",
        "\n",
        "model = model.to(device)\n",
        "criterion = criterion.to(device)"
      ],
      "execution_count": 0,
      "outputs": []
    },
    {
      "cell_type": "code",
      "metadata": {
        "id": "iDHAX64eNwMj",
        "colab_type": "code",
        "colab": {}
      },
      "source": [
        "torch.cuda.empty_cache()"
      ],
      "execution_count": 0,
      "outputs": []
    },
    {
      "cell_type": "code",
      "metadata": {
        "id": "dLHTNEUb28aV",
        "colab_type": "code",
        "outputId": "d754e0e3-3d2e-4ce0-da5f-f76a3f64eb5b",
        "colab": {
          "base_uri": "https://localhost:8080/",
          "height": 116,
          "referenced_widgets": [
            "d8effe8c795c4f1d9eb59be6b21c8e5c",
            "b9078f4cd495495195a41d208d8141b4",
            "55ad285ec3904849aaa6e7cee01b600c",
            "bb5b535872ee467f8d692269cc5c2f99",
            "5af486e93b724ceab56590210b24bfc6",
            "fc6695f3a4e649719666178344b2a030",
            "a0737a31334e436fbcb0ed5d7b4a8dd9",
            "93796e61fc814141aa20432dbfe4fb94",
            "95b2f42f847447858b6071202f8aa1f2",
            "4032378301f145a0ac4b9f89ea8f0a64",
            "32723a3f2c404e158dfe1f9b403aee79",
            "07c9d5df5b494ab3afb34fb1cb7d8513",
            "f9e089fa880444a3a1297d5eef045c60",
            "4425d832e3104caab6f8556869348bea",
            "c7768fd0adfc4b7d9c204fffbaab3af7",
            "6ab3c55c1dbd42e8918adf927168f6b1"
          ]
        }
      },
      "source": [
        "N_EPOCHS = 1\n",
        "\n",
        "best_train_loss = 0.086\n",
        "\n",
        "for epoch in tqdm_notebook(range(N_EPOCHS),desc='EPOCH'):\n",
        "\n",
        "    train_loss, train_acc ,train_error= train(model, alltrain_iterator, optimizer, criterion)\n",
        "    \n",
        "    print(f'\\tTrain. Error: {train_error:.1f} || Loss: {train_loss:.3f} || Acc: {train_acc*100:.2f}%')\n",
        "  \n",
        "    if train_loss < best_train_loss:\n",
        "        best_train_loss = train_loss\n",
        "        print('Best model is saved!!')\n",
        "        torch.save(model.state_dict(), str(N_EPOCHS) + '_model.pt')\n",
        "    if train_loss < 0.05:\n",
        "      print('Overfitting')\n",
        "      # torch.save(model.state_dict(), str(N_EPOCHS) + 'over_model.pt')\n",
        "      break\n",
        "\n",
        "    if train_error == 0.0:\n",
        "      torch.save(model.state_dict(), N_EPOCHS + '_model.pt')\n"
      ],
      "execution_count": 0,
      "outputs": [
        {
          "output_type": "display_data",
          "data": {
            "application/vnd.jupyter.widget-view+json": {
              "model_id": "d8effe8c795c4f1d9eb59be6b21c8e5c",
              "version_minor": 0,
              "version_major": 2
            },
            "text/plain": [
              "HBox(children=(IntProgress(value=0, description='EPOCH', max=1, style=ProgressStyle(description_width='initial…"
            ]
          },
          "metadata": {
            "tags": []
          }
        },
        {
          "output_type": "display_data",
          "data": {
            "application/vnd.jupyter.widget-view+json": {
              "model_id": "95b2f42f847447858b6071202f8aa1f2",
              "version_minor": 0,
              "version_major": 2
            },
            "text/plain": [
              "HBox(children=(IntProgress(value=0, description='TRAIN', max=290, style=ProgressStyle(description_width='initi…"
            ]
          },
          "metadata": {
            "tags": []
          }
        },
        {
          "output_type": "stream",
          "text": [
            "\tTrain. Error: 6.0 || Loss: 0.063 || Acc: 100.00%\n",
            "Best model is saved!!\n"
          ],
          "name": "stdout"
        }
      ]
    },
    {
      "cell_type": "code",
      "metadata": {
        "id": "V7Z3HeQUyR9M",
        "colab_type": "code",
        "colab": {}
      },
      "source": [
        "test_fields = [('id',ID),('year',None),('text',TEXT)]\n",
        "test_set = TabularDataset(\"/content/drive/My Drive/Colab Notebooks/data/\" + tokenizer + \"public_test.csv\",format='csv',fields=test_fields, skip_header=True)"
      ],
      "execution_count": 0,
      "outputs": []
    },
    {
      "cell_type": "code",
      "metadata": {
        "id": "n1lLSFktyDbN",
        "colab_type": "code",
        "outputId": "58bd6e65-09bf-4b8b-86ef-d5d26c44bef8",
        "colab": {
          "base_uri": "https://localhost:8080/",
          "height": 298
        }
      },
      "source": [
        "ids = []\n",
        "labels = []\n",
        "pred_list = []\n",
        "print(N_EPOCHS)\n",
        "model.load_state_dict(torch.load(str(N_EPOCHS) + '_model.pt'))\n",
        "model.eval()\n",
        "\n",
        "for data in test_set:\n",
        "  if len(data.text) < 5:\n",
        "    data.text += ['<pad>'] * (5 - len(data.text))\n",
        "  indexed = [TEXT.vocab.stoi[t] for t in data.text]\n",
        "  tensor = torch.LongTensor(indexed).to(device)\n",
        "  tensor = tensor.unsqueeze(0)\n",
        "  pred = model(tensor)\n",
        "  predict = torch.sigmoid(model(tensor))\n",
        "\n",
        "  labels.append(torch.round(predict).item())\n",
        "  ids.append(data.id)\n",
        "  pred_list.append(predict.item())\n",
        "\n",
        "result_data = pandas.DataFrame({'id' : ids, 'smishing':pred_list})\n",
        "result_data.to_csv(str(10) + 'result_data.csv',index=False)\n",
        "\n",
        "print(result_data)\n",
        "print(sum(labels))"
      ],
      "execution_count": 0,
      "outputs": [
        {
          "output_type": "stream",
          "text": [
            "1\n",
            "          id      smishing\n",
            "0     340000  3.526019e-12\n",
            "1     340001  5.499422e-07\n",
            "2     340002  9.148106e-11\n",
            "3     340003  3.722385e-13\n",
            "4     340004  1.230075e-12\n",
            "...      ...           ...\n",
            "1621  341621  4.544904e-13\n",
            "1622  341622  1.806402e-12\n",
            "1623  341623  5.453318e-15\n",
            "1624  341624  3.837799e-07\n",
            "1625  341625  1.120625e-10\n",
            "\n",
            "[1626 rows x 2 columns]\n",
            "94.0\n"
          ],
          "name": "stdout"
        }
      ]
    },
    {
      "cell_type": "code",
      "metadata": {
        "id": "CSKG-GVWasal",
        "colab_type": "code",
        "colab": {}
      },
      "source": [
        "high = pandas.read_csv('/content/high.csv')\n",
        "present = pandas.read_csv('/content/1result_data.csv')\n",
        "\n",
        "pre_label = []\n",
        "high_label = []\n",
        "for score,score2 in zip(high['smishing'],present['smishing']):\n",
        "  if score >=0.5:\n",
        "    high_label.append(1)\n",
        "  else:\n",
        "    high_label.append(0)\n",
        "\n",
        "  if score2 >=0.5:\n",
        "    pre_label.append(1)\n",
        "  else:\n",
        "    pre_label.append(0)"
      ],
      "execution_count": 0,
      "outputs": []
    },
    {
      "cell_type": "code",
      "metadata": {
        "id": "wqrZvldZxgn_",
        "colab_type": "code",
        "outputId": "0c710cc5-c292-4a7d-da76-e721906b8453",
        "colab": {
          "base_uri": "https://localhost:8080/",
          "height": 34
        }
      },
      "source": [
        "sum(high_label)"
      ],
      "execution_count": 0,
      "outputs": [
        {
          "output_type": "execute_result",
          "data": {
            "text/plain": [
              "106"
            ]
          },
          "metadata": {
            "tags": []
          },
          "execution_count": 46
        }
      ]
    },
    {
      "cell_type": "code",
      "metadata": {
        "id": "sY9V-XC4bGR9",
        "colab_type": "code",
        "outputId": "7190396e-4b93-485f-eef9-294006bf4d0b",
        "colab": {
          "base_uri": "https://localhost:8080/",
          "height": 175
        }
      },
      "source": [
        "cnt = 0\n",
        "\n",
        "for a, b in zip(high_label,pre_label):\n",
        "  if a != b:\n",
        "    if a == 1:\n",
        "      print('a is 1')\n",
        "    else:\n",
        "      print('a is 0')\n",
        "    cnt += 1\n",
        "\n",
        "cnt"
      ],
      "execution_count": 0,
      "outputs": [
        {
          "output_type": "stream",
          "text": [
            "a is 1\n",
            "a is 0\n",
            "a is 1\n",
            "a is 1\n",
            "a is 1\n",
            "a is 0\n",
            "a is 1\n",
            "a is 1\n"
          ],
          "name": "stdout"
        },
        {
          "output_type": "execute_result",
          "data": {
            "text/plain": [
              "8"
            ]
          },
          "metadata": {
            "tags": []
          },
          "execution_count": 48
        }
      ]
    },
    {
      "cell_type": "code",
      "metadata": {
        "id": "xvgY0wNRw6B1",
        "colab_type": "code",
        "outputId": "03d75883-c57a-4cb4-cf8f-5cb6acb7a7aa",
        "colab": {
          "base_uri": "https://localhost:8080/",
          "height": 34
        }
      },
      "source": [
        "# high = pandas.read_csv('/content/high.csv')\n",
        "# df = pandas.read_csv('/content/5.csv')\n",
        "\n",
        "diff = 0\n",
        "\n",
        "for a, b in zip(high['smishing'],result_data['smishing']):\n",
        "  diff += abs(a-b)\n",
        "\n",
        "diff"
      ],
      "execution_count": 0,
      "outputs": [
        {
          "output_type": "execute_result",
          "data": {
            "text/plain": [
              "15.045782360517876"
            ]
          },
          "metadata": {
            "tags": []
          },
          "execution_count": 110
        }
      ]
    },
    {
      "cell_type": "code",
      "metadata": {
        "id": "6j4ml57R6Hcl",
        "colab_type": "code",
        "outputId": "96fa8c4a-28ae-49dc-f8d1-404f42abd3b7",
        "colab": {
          "base_uri": "https://localhost:8080/",
          "height": 402
        }
      },
      "source": [
        "b = pandas.read_csv('/content/101result_data.csv')\n",
        "b"
      ],
      "execution_count": 0,
      "outputs": [
        {
          "output_type": "execute_result",
          "data": {
            "text/html": [
              "<div>\n",
              "<style scoped>\n",
              "    .dataframe tbody tr th:only-of-type {\n",
              "        vertical-align: middle;\n",
              "    }\n",
              "\n",
              "    .dataframe tbody tr th {\n",
              "        vertical-align: top;\n",
              "    }\n",
              "\n",
              "    .dataframe thead th {\n",
              "        text-align: right;\n",
              "    }\n",
              "</style>\n",
              "<table border=\"1\" class=\"dataframe\">\n",
              "  <thead>\n",
              "    <tr style=\"text-align: right;\">\n",
              "      <th></th>\n",
              "      <th>id</th>\n",
              "      <th>smishing</th>\n",
              "    </tr>\n",
              "  </thead>\n",
              "  <tbody>\n",
              "    <tr>\n",
              "      <th>0</th>\n",
              "      <td>340000</td>\n",
              "      <td>5.326150e-11</td>\n",
              "    </tr>\n",
              "    <tr>\n",
              "      <th>1</th>\n",
              "      <td>340001</td>\n",
              "      <td>1.128968e-06</td>\n",
              "    </tr>\n",
              "    <tr>\n",
              "      <th>2</th>\n",
              "      <td>340002</td>\n",
              "      <td>4.772320e-10</td>\n",
              "    </tr>\n",
              "    <tr>\n",
              "      <th>3</th>\n",
              "      <td>340003</td>\n",
              "      <td>2.982476e-12</td>\n",
              "    </tr>\n",
              "    <tr>\n",
              "      <th>4</th>\n",
              "      <td>340004</td>\n",
              "      <td>1.590194e-11</td>\n",
              "    </tr>\n",
              "    <tr>\n",
              "      <th>...</th>\n",
              "      <td>...</td>\n",
              "      <td>...</td>\n",
              "    </tr>\n",
              "    <tr>\n",
              "      <th>1621</th>\n",
              "      <td>341621</td>\n",
              "      <td>6.316974e-12</td>\n",
              "    </tr>\n",
              "    <tr>\n",
              "      <th>1622</th>\n",
              "      <td>341622</td>\n",
              "      <td>1.327633e-11</td>\n",
              "    </tr>\n",
              "    <tr>\n",
              "      <th>1623</th>\n",
              "      <td>341623</td>\n",
              "      <td>5.014807e-14</td>\n",
              "    </tr>\n",
              "    <tr>\n",
              "      <th>1624</th>\n",
              "      <td>341624</td>\n",
              "      <td>4.458320e-06</td>\n",
              "    </tr>\n",
              "    <tr>\n",
              "      <th>1625</th>\n",
              "      <td>341625</td>\n",
              "      <td>2.349847e-09</td>\n",
              "    </tr>\n",
              "  </tbody>\n",
              "</table>\n",
              "<p>1626 rows × 2 columns</p>\n",
              "</div>"
            ],
            "text/plain": [
              "          id      smishing\n",
              "0     340000  5.326150e-11\n",
              "1     340001  1.128968e-06\n",
              "2     340002  4.772320e-10\n",
              "3     340003  2.982476e-12\n",
              "4     340004  1.590194e-11\n",
              "...      ...           ...\n",
              "1621  341621  6.316974e-12\n",
              "1622  341622  1.327633e-11\n",
              "1623  341623  5.014807e-14\n",
              "1624  341624  4.458320e-06\n",
              "1625  341625  2.349847e-09\n",
              "\n",
              "[1626 rows x 2 columns]"
            ]
          },
          "metadata": {
            "tags": []
          },
          "execution_count": 64
        }
      ]
    },
    {
      "cell_type": "code",
      "metadata": {
        "id": "oR8HdBaN5Kb4",
        "colab_type": "code",
        "outputId": "ed524fa6-97ec-4e0d-9549-feb5fca5eade",
        "colab": {
          "base_uri": "https://localhost:8080/",
          "height": 402
        }
      },
      "source": [
        "a = pandas.read_csv('/content/Soy_df350_128128_E82.csv')\n",
        "\n",
        "a"
      ],
      "execution_count": 0,
      "outputs": [
        {
          "output_type": "execute_result",
          "data": {
            "text/html": [
              "<div>\n",
              "<style scoped>\n",
              "    .dataframe tbody tr th:only-of-type {\n",
              "        vertical-align: middle;\n",
              "    }\n",
              "\n",
              "    .dataframe tbody tr th {\n",
              "        vertical-align: top;\n",
              "    }\n",
              "\n",
              "    .dataframe thead th {\n",
              "        text-align: right;\n",
              "    }\n",
              "</style>\n",
              "<table border=\"1\" class=\"dataframe\">\n",
              "  <thead>\n",
              "    <tr style=\"text-align: right;\">\n",
              "      <th></th>\n",
              "      <th>id</th>\n",
              "      <th>smishing</th>\n",
              "    </tr>\n",
              "  </thead>\n",
              "  <tbody>\n",
              "    <tr>\n",
              "      <th>0</th>\n",
              "      <td>340000</td>\n",
              "      <td>4.900000e-11</td>\n",
              "    </tr>\n",
              "    <tr>\n",
              "      <th>1</th>\n",
              "      <td>340001</td>\n",
              "      <td>1.540000e-06</td>\n",
              "    </tr>\n",
              "    <tr>\n",
              "      <th>2</th>\n",
              "      <td>340002</td>\n",
              "      <td>7.000000e-10</td>\n",
              "    </tr>\n",
              "    <tr>\n",
              "      <th>3</th>\n",
              "      <td>340003</td>\n",
              "      <td>1.660000e-12</td>\n",
              "    </tr>\n",
              "    <tr>\n",
              "      <th>4</th>\n",
              "      <td>340004</td>\n",
              "      <td>2.060000e-11</td>\n",
              "    </tr>\n",
              "    <tr>\n",
              "      <th>...</th>\n",
              "      <td>...</td>\n",
              "      <td>...</td>\n",
              "    </tr>\n",
              "    <tr>\n",
              "      <th>1621</th>\n",
              "      <td>341621</td>\n",
              "      <td>4.280000e-12</td>\n",
              "    </tr>\n",
              "    <tr>\n",
              "      <th>1622</th>\n",
              "      <td>341622</td>\n",
              "      <td>1.540000e-11</td>\n",
              "    </tr>\n",
              "    <tr>\n",
              "      <th>1623</th>\n",
              "      <td>341623</td>\n",
              "      <td>1.120000e-13</td>\n",
              "    </tr>\n",
              "    <tr>\n",
              "      <th>1624</th>\n",
              "      <td>341624</td>\n",
              "      <td>2.050000e-05</td>\n",
              "    </tr>\n",
              "    <tr>\n",
              "      <th>1625</th>\n",
              "      <td>341625</td>\n",
              "      <td>9.650000e-10</td>\n",
              "    </tr>\n",
              "  </tbody>\n",
              "</table>\n",
              "<p>1626 rows × 2 columns</p>\n",
              "</div>"
            ],
            "text/plain": [
              "          id      smishing\n",
              "0     340000  4.900000e-11\n",
              "1     340001  1.540000e-06\n",
              "2     340002  7.000000e-10\n",
              "3     340003  1.660000e-12\n",
              "4     340004  2.060000e-11\n",
              "...      ...           ...\n",
              "1621  341621  4.280000e-12\n",
              "1622  341622  1.540000e-11\n",
              "1623  341623  1.120000e-13\n",
              "1624  341624  2.050000e-05\n",
              "1625  341625  9.650000e-10\n",
              "\n",
              "[1626 rows x 2 columns]"
            ]
          },
          "metadata": {
            "tags": []
          },
          "execution_count": 62
        }
      ]
    },
    {
      "cell_type": "code",
      "metadata": {
        "id": "fJgO3qyg5PL7",
        "colab_type": "code",
        "colab": {}
      },
      "source": [
        "for col in ['Unnamed: 2','Unnamed: 3','Unnamed: 4','Unnamed: 5','Unnamed: 6','Unnamed: 7']:\n",
        "  del a[col]"
      ],
      "execution_count": 0,
      "outputs": []
    },
    {
      "cell_type": "code",
      "metadata": {
        "id": "V6ICYQ-L5nOw",
        "colab_type": "code",
        "colab": {}
      },
      "source": [
        "a.to_csv('/content/Soy_df350_128128_E82.csv',index=False)"
      ],
      "execution_count": 0,
      "outputs": []
    }
  ]
}
