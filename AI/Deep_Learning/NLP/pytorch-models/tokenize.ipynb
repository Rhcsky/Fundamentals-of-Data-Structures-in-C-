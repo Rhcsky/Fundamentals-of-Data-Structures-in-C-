{
  "nbformat": 4,
  "nbformat_minor": 0,
  "metadata": {
    "colab": {
      "name": "Final",
      "provenance": [],
      "collapsed_sections": [],
      "include_colab_link": true
    },
    "kernelspec": {
      "name": "python3",
      "display_name": "Python 3"
    },
    "accelerator": "GPU",
    "widgets": {
      "application/vnd.jupyter.widget-state+json": {
        "7bd64086de1648db89a72235b42b6e26": {
          "model_module": "@jupyter-widgets/controls",
          "model_name": "HBoxModel",
          "state": {
            "_view_name": "HBoxView",
            "_dom_classes": [],
            "_model_name": "HBoxModel",
            "_view_module": "@jupyter-widgets/controls",
            "_model_module_version": "1.5.0",
            "_view_count": null,
            "_view_module_version": "1.5.0",
            "box_style": "",
            "layout": "IPY_MODEL_1dd5b9003ccb40e69732792f7c9013ab",
            "_model_module": "@jupyter-widgets/controls",
            "children": [
              "IPY_MODEL_0f529e3fc1334a979bb08b473263d1af",
              "IPY_MODEL_4e24c397bbd94a059317710d38a5e94a"
            ]
          }
        },
        "1dd5b9003ccb40e69732792f7c9013ab": {
          "model_module": "@jupyter-widgets/base",
          "model_name": "LayoutModel",
          "state": {
            "_view_name": "LayoutView",
            "grid_template_rows": null,
            "right": null,
            "justify_content": null,
            "_view_module": "@jupyter-widgets/base",
            "overflow": null,
            "_model_module_version": "1.2.0",
            "_view_count": null,
            "flex_flow": null,
            "width": null,
            "min_width": null,
            "border": null,
            "align_items": null,
            "bottom": null,
            "_model_module": "@jupyter-widgets/base",
            "top": null,
            "grid_column": null,
            "overflow_y": null,
            "overflow_x": null,
            "grid_auto_flow": null,
            "grid_area": null,
            "grid_template_columns": null,
            "flex": null,
            "_model_name": "LayoutModel",
            "justify_items": null,
            "grid_row": null,
            "max_height": null,
            "align_content": null,
            "visibility": null,
            "align_self": null,
            "height": null,
            "min_height": null,
            "padding": null,
            "grid_auto_rows": null,
            "grid_gap": null,
            "max_width": null,
            "order": null,
            "_view_module_version": "1.2.0",
            "grid_template_areas": null,
            "object_position": null,
            "object_fit": null,
            "grid_auto_columns": null,
            "margin": null,
            "display": null,
            "left": null
          }
        },
        "0f529e3fc1334a979bb08b473263d1af": {
          "model_module": "@jupyter-widgets/controls",
          "model_name": "IntProgressModel",
          "state": {
            "_view_name": "ProgressView",
            "style": "IPY_MODEL_672b29ec4b9c4bde8b8f8d7db6730543",
            "_dom_classes": [],
            "description": "",
            "_model_name": "IntProgressModel",
            "bar_style": "success",
            "max": 1325,
            "_view_module": "@jupyter-widgets/controls",
            "_model_module_version": "1.5.0",
            "value": 1325,
            "_view_count": null,
            "_view_module_version": "1.5.0",
            "orientation": "horizontal",
            "min": 0,
            "description_tooltip": null,
            "_model_module": "@jupyter-widgets/controls",
            "layout": "IPY_MODEL_86fe940fad144d29a399f4bbda121a56"
          }
        },
        "4e24c397bbd94a059317710d38a5e94a": {
          "model_module": "@jupyter-widgets/controls",
          "model_name": "HTMLModel",
          "state": {
            "_view_name": "HTMLView",
            "style": "IPY_MODEL_9941dfb7610f4ef58f13793c26ee9c83",
            "_dom_classes": [],
            "description": "",
            "_model_name": "HTMLModel",
            "placeholder": "​",
            "_view_module": "@jupyter-widgets/controls",
            "_model_module_version": "1.5.0",
            "value": "100% 1325/1325 [00:00&lt;00:00, 17896.78it/s]",
            "_view_count": null,
            "_view_module_version": "1.5.0",
            "description_tooltip": null,
            "_model_module": "@jupyter-widgets/controls",
            "layout": "IPY_MODEL_58817a7e805349c7ba22942f39f679f7"
          }
        },
        "672b29ec4b9c4bde8b8f8d7db6730543": {
          "model_module": "@jupyter-widgets/controls",
          "model_name": "ProgressStyleModel",
          "state": {
            "_view_name": "StyleView",
            "_model_name": "ProgressStyleModel",
            "description_width": "",
            "_view_module": "@jupyter-widgets/base",
            "_model_module_version": "1.5.0",
            "_view_count": null,
            "_view_module_version": "1.2.0",
            "bar_color": null,
            "_model_module": "@jupyter-widgets/controls"
          }
        },
        "86fe940fad144d29a399f4bbda121a56": {
          "model_module": "@jupyter-widgets/base",
          "model_name": "LayoutModel",
          "state": {
            "_view_name": "LayoutView",
            "grid_template_rows": null,
            "right": null,
            "justify_content": null,
            "_view_module": "@jupyter-widgets/base",
            "overflow": null,
            "_model_module_version": "1.2.0",
            "_view_count": null,
            "flex_flow": null,
            "width": null,
            "min_width": null,
            "border": null,
            "align_items": null,
            "bottom": null,
            "_model_module": "@jupyter-widgets/base",
            "top": null,
            "grid_column": null,
            "overflow_y": null,
            "overflow_x": null,
            "grid_auto_flow": null,
            "grid_area": null,
            "grid_template_columns": null,
            "flex": null,
            "_model_name": "LayoutModel",
            "justify_items": null,
            "grid_row": null,
            "max_height": null,
            "align_content": null,
            "visibility": null,
            "align_self": null,
            "height": null,
            "min_height": null,
            "padding": null,
            "grid_auto_rows": null,
            "grid_gap": null,
            "max_width": null,
            "order": null,
            "_view_module_version": "1.2.0",
            "grid_template_areas": null,
            "object_position": null,
            "object_fit": null,
            "grid_auto_columns": null,
            "margin": null,
            "display": null,
            "left": null
          }
        },
        "9941dfb7610f4ef58f13793c26ee9c83": {
          "model_module": "@jupyter-widgets/controls",
          "model_name": "DescriptionStyleModel",
          "state": {
            "_view_name": "StyleView",
            "_model_name": "DescriptionStyleModel",
            "description_width": "",
            "_view_module": "@jupyter-widgets/base",
            "_model_module_version": "1.5.0",
            "_view_count": null,
            "_view_module_version": "1.2.0",
            "_model_module": "@jupyter-widgets/controls"
          }
        },
        "58817a7e805349c7ba22942f39f679f7": {
          "model_module": "@jupyter-widgets/base",
          "model_name": "LayoutModel",
          "state": {
            "_view_name": "LayoutView",
            "grid_template_rows": null,
            "right": null,
            "justify_content": null,
            "_view_module": "@jupyter-widgets/base",
            "overflow": null,
            "_model_module_version": "1.2.0",
            "_view_count": null,
            "flex_flow": null,
            "width": null,
            "min_width": null,
            "border": null,
            "align_items": null,
            "bottom": null,
            "_model_module": "@jupyter-widgets/base",
            "top": null,
            "grid_column": null,
            "overflow_y": null,
            "overflow_x": null,
            "grid_auto_flow": null,
            "grid_area": null,
            "grid_template_columns": null,
            "flex": null,
            "_model_name": "LayoutModel",
            "justify_items": null,
            "grid_row": null,
            "max_height": null,
            "align_content": null,
            "visibility": null,
            "align_self": null,
            "height": null,
            "min_height": null,
            "padding": null,
            "grid_auto_rows": null,
            "grid_gap": null,
            "max_width": null,
            "order": null,
            "_view_module_version": "1.2.0",
            "grid_template_areas": null,
            "object_position": null,
            "object_fit": null,
            "grid_auto_columns": null,
            "margin": null,
            "display": null,
            "left": null
          }
        },
        "67d21010cf684101ae18c624cfd75a14": {
          "model_module": "@jupyter-widgets/controls",
          "model_name": "HBoxModel",
          "state": {
            "_view_name": "HBoxView",
            "_dom_classes": [],
            "_model_name": "HBoxModel",
            "_view_module": "@jupyter-widgets/controls",
            "_model_module_version": "1.5.0",
            "_view_count": null,
            "_view_module_version": "1.5.0",
            "box_style": "",
            "layout": "IPY_MODEL_3b940597e15149d09ca4cff90681d9f9",
            "_model_module": "@jupyter-widgets/controls",
            "children": [
              "IPY_MODEL_d4ad8e11b7304e5cad479d3e8631b213",
              "IPY_MODEL_d5126eb8920b498a9d495273ff28dfe0"
            ]
          }
        },
        "3b940597e15149d09ca4cff90681d9f9": {
          "model_module": "@jupyter-widgets/base",
          "model_name": "LayoutModel",
          "state": {
            "_view_name": "LayoutView",
            "grid_template_rows": null,
            "right": null,
            "justify_content": null,
            "_view_module": "@jupyter-widgets/base",
            "overflow": null,
            "_model_module_version": "1.2.0",
            "_view_count": null,
            "flex_flow": null,
            "width": null,
            "min_width": null,
            "border": null,
            "align_items": null,
            "bottom": null,
            "_model_module": "@jupyter-widgets/base",
            "top": null,
            "grid_column": null,
            "overflow_y": null,
            "overflow_x": null,
            "grid_auto_flow": null,
            "grid_area": null,
            "grid_template_columns": null,
            "flex": null,
            "_model_name": "LayoutModel",
            "justify_items": null,
            "grid_row": null,
            "max_height": null,
            "align_content": null,
            "visibility": null,
            "align_self": null,
            "height": null,
            "min_height": null,
            "padding": null,
            "grid_auto_rows": null,
            "grid_gap": null,
            "max_width": null,
            "order": null,
            "_view_module_version": "1.2.0",
            "grid_template_areas": null,
            "object_position": null,
            "object_fit": null,
            "grid_auto_columns": null,
            "margin": null,
            "display": null,
            "left": null
          }
        },
        "d4ad8e11b7304e5cad479d3e8631b213": {
          "model_module": "@jupyter-widgets/controls",
          "model_name": "IntProgressModel",
          "state": {
            "_view_name": "ProgressView",
            "style": "IPY_MODEL_ec2e1096885544bc8cfaaaff3c7757df",
            "_dom_classes": [],
            "description": "",
            "_model_name": "IntProgressModel",
            "bar_style": "success",
            "max": 206829,
            "_view_module": "@jupyter-widgets/controls",
            "_model_module_version": "1.5.0",
            "value": 206829,
            "_view_count": null,
            "_view_module_version": "1.5.0",
            "orientation": "horizontal",
            "min": 0,
            "description_tooltip": null,
            "_model_module": "@jupyter-widgets/controls",
            "layout": "IPY_MODEL_d4d61096437e4c4a905111d6a404fbca"
          }
        },
        "d5126eb8920b498a9d495273ff28dfe0": {
          "model_module": "@jupyter-widgets/controls",
          "model_name": "HTMLModel",
          "state": {
            "_view_name": "HTMLView",
            "style": "IPY_MODEL_29580ac2440e40578bb1250817e1555d",
            "_dom_classes": [],
            "description": "",
            "_model_name": "HTMLModel",
            "placeholder": "​",
            "_view_module": "@jupyter-widgets/controls",
            "_model_module_version": "1.5.0",
            "value": "100% 206829/206829 [06:39&lt;00:00, 518.09it/s]",
            "_view_count": null,
            "_view_module_version": "1.5.0",
            "description_tooltip": null,
            "_model_module": "@jupyter-widgets/controls",
            "layout": "IPY_MODEL_259ca6a6f7ea43d0a0cfb37206c27c83"
          }
        },
        "ec2e1096885544bc8cfaaaff3c7757df": {
          "model_module": "@jupyter-widgets/controls",
          "model_name": "ProgressStyleModel",
          "state": {
            "_view_name": "StyleView",
            "_model_name": "ProgressStyleModel",
            "description_width": "",
            "_view_module": "@jupyter-widgets/base",
            "_model_module_version": "1.5.0",
            "_view_count": null,
            "_view_module_version": "1.2.0",
            "bar_color": null,
            "_model_module": "@jupyter-widgets/controls"
          }
        },
        "d4d61096437e4c4a905111d6a404fbca": {
          "model_module": "@jupyter-widgets/base",
          "model_name": "LayoutModel",
          "state": {
            "_view_name": "LayoutView",
            "grid_template_rows": null,
            "right": null,
            "justify_content": null,
            "_view_module": "@jupyter-widgets/base",
            "overflow": null,
            "_model_module_version": "1.2.0",
            "_view_count": null,
            "flex_flow": null,
            "width": null,
            "min_width": null,
            "border": null,
            "align_items": null,
            "bottom": null,
            "_model_module": "@jupyter-widgets/base",
            "top": null,
            "grid_column": null,
            "overflow_y": null,
            "overflow_x": null,
            "grid_auto_flow": null,
            "grid_area": null,
            "grid_template_columns": null,
            "flex": null,
            "_model_name": "LayoutModel",
            "justify_items": null,
            "grid_row": null,
            "max_height": null,
            "align_content": null,
            "visibility": null,
            "align_self": null,
            "height": null,
            "min_height": null,
            "padding": null,
            "grid_auto_rows": null,
            "grid_gap": null,
            "max_width": null,
            "order": null,
            "_view_module_version": "1.2.0",
            "grid_template_areas": null,
            "object_position": null,
            "object_fit": null,
            "grid_auto_columns": null,
            "margin": null,
            "display": null,
            "left": null
          }
        },
        "29580ac2440e40578bb1250817e1555d": {
          "model_module": "@jupyter-widgets/controls",
          "model_name": "DescriptionStyleModel",
          "state": {
            "_view_name": "StyleView",
            "_model_name": "DescriptionStyleModel",
            "description_width": "",
            "_view_module": "@jupyter-widgets/base",
            "_model_module_version": "1.5.0",
            "_view_count": null,
            "_view_module_version": "1.2.0",
            "_model_module": "@jupyter-widgets/controls"
          }
        },
        "259ca6a6f7ea43d0a0cfb37206c27c83": {
          "model_module": "@jupyter-widgets/base",
          "model_name": "LayoutModel",
          "state": {
            "_view_name": "LayoutView",
            "grid_template_rows": null,
            "right": null,
            "justify_content": null,
            "_view_module": "@jupyter-widgets/base",
            "overflow": null,
            "_model_module_version": "1.2.0",
            "_view_count": null,
            "flex_flow": null,
            "width": null,
            "min_width": null,
            "border": null,
            "align_items": null,
            "bottom": null,
            "_model_module": "@jupyter-widgets/base",
            "top": null,
            "grid_column": null,
            "overflow_y": null,
            "overflow_x": null,
            "grid_auto_flow": null,
            "grid_area": null,
            "grid_template_columns": null,
            "flex": null,
            "_model_name": "LayoutModel",
            "justify_items": null,
            "grid_row": null,
            "max_height": null,
            "align_content": null,
            "visibility": null,
            "align_self": null,
            "height": null,
            "min_height": null,
            "padding": null,
            "grid_auto_rows": null,
            "grid_gap": null,
            "max_width": null,
            "order": null,
            "_view_module_version": "1.2.0",
            "grid_template_areas": null,
            "object_position": null,
            "object_fit": null,
            "grid_auto_columns": null,
            "margin": null,
            "display": null,
            "left": null
          }
        }
      }
    }
  },
  "cells": [
    {
      "cell_type": "markdown",
      "metadata": {
        "id": "view-in-github",
        "colab_type": "text"
      },
      "source": [
        "<a href=\"https://colab.research.google.com/github/Rhcsky/Colab-pytorch/blob/master/tokenize.ipynb\" target=\"_parent\"><img src=\"https://colab.research.google.com/assets/colab-badge.svg\" alt=\"Open In Colab\"/></a>"
      ]
    },
    {
      "cell_type": "code",
      "metadata": {
        "id": "Xc8Jbu5dA9yb",
        "colab_type": "code",
        "outputId": "43868c8a-5705-49cb-a343-779bf6245c56",
        "colab": {
          "base_uri": "https://localhost:8080/",
          "height": 125
        }
      },
      "source": [
        "# INSTALL Mecab\n",
        "\n",
        "! git clone https://github.com/SOMJANG/Mecab-ko-for-Google-Colab.git"
      ],
      "execution_count": 0,
      "outputs": [
        {
          "output_type": "stream",
          "text": [
            "Cloning into 'Mecab-ko-for-Google-Colab'...\n",
            "remote: Enumerating objects: 47, done.\u001b[K\n",
            "remote: Counting objects:   2% (1/47)\u001b[K\rremote: Counting objects:   4% (2/47)\u001b[K\rremote: Counting objects:   6% (3/47)\u001b[K\rremote: Counting objects:   8% (4/47)\u001b[K\rremote: Counting objects:  10% (5/47)\u001b[K\rremote: Counting objects:  12% (6/47)\u001b[K\rremote: Counting objects:  14% (7/47)\u001b[K\rremote: Counting objects:  17% (8/47)\u001b[K\rremote: Counting objects:  19% (9/47)\u001b[K\rremote: Counting objects:  21% (10/47)\u001b[K\rremote: Counting objects:  23% (11/47)\u001b[K\rremote: Counting objects:  25% (12/47)\u001b[K\rremote: Counting objects:  27% (13/47)\u001b[K\rremote: Counting objects:  29% (14/47)\u001b[K\rremote: Counting objects:  31% (15/47)\u001b[K\rremote: Counting objects:  34% (16/47)\u001b[K\rremote: Counting objects:  36% (17/47)\u001b[K\rremote: Counting objects:  38% (18/47)\u001b[K\rremote: Counting objects:  40% (19/47)\u001b[K\rremote: Counting objects:  42% (20/47)\u001b[K\rremote: Counting objects:  44% (21/47)\u001b[K\rremote: Counting objects:  46% (22/47)\u001b[K\rremote: Counting objects:  48% (23/47)\u001b[K\rremote: Counting objects:  51% (24/47)\u001b[K\rremote: Counting objects:  53% (25/47)\u001b[K\rremote: Counting objects:  55% (26/47)\u001b[K\rremote: Counting objects:  57% (27/47)\u001b[K\rremote: Counting objects:  59% (28/47)\u001b[K\rremote: Counting objects:  61% (29/47)\u001b[K\rremote: Counting objects:  63% (30/47)\u001b[K\rremote: Counting objects:  65% (31/47)\u001b[K\rremote: Counting objects:  68% (32/47)\u001b[K\rremote: Counting objects:  70% (33/47)\u001b[K\rremote: Counting objects:  72% (34/47)\u001b[K\rremote: Counting objects:  74% (35/47)\u001b[K\rremote: Counting objects:  76% (36/47)\u001b[K\rremote: Counting objects:  78% (37/47)\u001b[K\rremote: Counting objects:  80% (38/47)\u001b[K\rremote: Counting objects:  82% (39/47)\u001b[K\rremote: Counting objects:  85% (40/47)\u001b[K\rremote: Counting objects:  87% (41/47)\u001b[K\rremote: Counting objects:  89% (42/47)\u001b[K\rremote: Counting objects:  91% (43/47)\u001b[K\rremote: Counting objects:  93% (44/47)\u001b[K\rremote: Counting objects:  95% (45/47)\u001b[K\rremote: Counting objects:  97% (46/47)\u001b[K\rremote: Counting objects: 100% (47/47)\u001b[K\rremote: Counting objects: 100% (47/47), done.\u001b[K\n",
            "remote: Compressing objects:   2% (1/42)\u001b[K\rremote: Compressing objects:   4% (2/42)\u001b[K\rremote: Compressing objects:   7% (3/42)\u001b[K\rremote: Compressing objects:   9% (4/42)\u001b[K\rremote: Compressing objects:  11% (5/42)\u001b[K\rremote: Compressing objects:  14% (6/42)\u001b[K\rremote: Compressing objects:  16% (7/42)\u001b[K\rremote: Compressing objects:  19% (8/42)\u001b[K\rremote: Compressing objects:  21% (9/42)\u001b[K\rremote: Compressing objects:  23% (10/42)\u001b[K\rremote: Compressing objects:  26% (11/42)\u001b[K\rremote: Compressing objects:  28% (12/42)\u001b[K\rremote: Compressing objects:  30% (13/42)\u001b[K\rremote: Compressing objects:  33% (14/42)\u001b[K\rremote: Compressing objects:  35% (15/42)\u001b[K\rremote: Compressing objects:  38% (16/42)\u001b[K\rremote: Compressing objects:  40% (17/42)\u001b[K\rremote: Compressing objects:  42% (18/42)\u001b[K\rremote: Compressing objects:  45% (19/42)\u001b[K\rremote: Compressing objects:  47% (20/42)\u001b[K\rremote: Compressing objects:  50% (21/42)\u001b[K\rremote: Compressing objects:  52% (22/42)\u001b[K\rremote: Compressing objects:  54% (23/42)\u001b[K\rremote: Compressing objects:  57% (24/42)\u001b[K\rremote: Compressing objects:  59% (25/42)\u001b[K\rremote: Compressing objects:  61% (26/42)\u001b[K\rremote: Compressing objects:  64% (27/42)\u001b[K\rremote: Compressing objects:  66% (28/42)\u001b[K\rremote: Compressing objects:  69% (29/42)\u001b[K\rremote: Compressing objects:  71% (30/42)\u001b[K\rremote: Compressing objects:  73% (31/42)\u001b[K\rremote: Compressing objects:  76% (32/42)\u001b[K\rremote: Compressing objects:  78% (33/42)\u001b[K\rremote: Compressing objects:  80% (34/42)\u001b[K\rremote: Compressing objects:  83% (35/42)\u001b[K\rremote: Compressing objects:  85% (36/42)\u001b[K\rremote: Compressing objects:  88% (37/42)\u001b[K\rremote: Compressing objects:  90% (38/42)\u001b[K\rremote: Compressing objects:  92% (39/42)\u001b[K\rremote: Compressing objects:  95% (40/42)\u001b[K\rremote: Compressing objects:  97% (41/42)\u001b[K\rremote: Compressing objects: 100% (42/42)\u001b[K\rremote: Compressing objects: 100% (42/42), done.\u001b[K\n",
            "Unpacking objects:   2% (1/47)   \rUnpacking objects:   4% (2/47)   \rUnpacking objects:   6% (3/47)   \rUnpacking objects:   8% (4/47)   \rUnpacking objects:  10% (5/47)   \rUnpacking objects:  12% (6/47)   \rUnpacking objects:  14% (7/47)   \rUnpacking objects:  17% (8/47)   \rUnpacking objects:  19% (9/47)   \rUnpacking objects:  21% (10/47)   \rUnpacking objects:  23% (11/47)   \rUnpacking objects:  25% (12/47)   \rUnpacking objects:  27% (13/47)   \rUnpacking objects:  29% (14/47)   \rUnpacking objects:  31% (15/47)   \rUnpacking objects:  34% (16/47)   \rUnpacking objects:  36% (17/47)   \rUnpacking objects:  38% (18/47)   \rUnpacking objects:  40% (19/47)   \rUnpacking objects:  42% (20/47)   \rUnpacking objects:  44% (21/47)   \rUnpacking objects:  46% (22/47)   \rUnpacking objects:  48% (23/47)   \rUnpacking objects:  51% (24/47)   \rUnpacking objects:  53% (25/47)   \rremote: Total 47 (delta 16), reused 20 (delta 5), pack-reused 0\u001b[K\n",
            "Unpacking objects:  55% (26/47)   \rUnpacking objects:  57% (27/47)   \rUnpacking objects:  59% (28/47)   \rUnpacking objects:  61% (29/47)   \rUnpacking objects:  63% (30/47)   \rUnpacking objects:  65% (31/47)   \rUnpacking objects:  68% (32/47)   \rUnpacking objects:  70% (33/47)   \rUnpacking objects:  72% (34/47)   \rUnpacking objects:  74% (35/47)   \rUnpacking objects:  76% (36/47)   \rUnpacking objects:  78% (37/47)   \rUnpacking objects:  80% (38/47)   \rUnpacking objects:  82% (39/47)   \rUnpacking objects:  85% (40/47)   \rUnpacking objects:  87% (41/47)   \rUnpacking objects:  89% (42/47)   \rUnpacking objects:  91% (43/47)   \rUnpacking objects:  93% (44/47)   \rUnpacking objects:  95% (45/47)   \rUnpacking objects:  97% (46/47)   \rUnpacking objects: 100% (47/47)   \rUnpacking objects: 100% (47/47), done.\n"
          ],
          "name": "stdout"
        }
      ]
    },
    {
      "cell_type": "code",
      "metadata": {
        "id": "AnT6kllQBY3p",
        "colab_type": "code",
        "outputId": "403d36cb-150d-4528-8dd9-c82accd66d4e",
        "colab": {
          "base_uri": "https://localhost:8080/",
          "height": 35
        }
      },
      "source": [
        "cd Mecab-ko-for-Google-Colab/"
      ],
      "execution_count": 0,
      "outputs": [
        {
          "output_type": "stream",
          "text": [
            "/content/Mecab-ko-for-Google-Colab\n"
          ],
          "name": "stdout"
        }
      ]
    },
    {
      "cell_type": "code",
      "metadata": {
        "id": "dSvtCplhBjH_",
        "colab_type": "code",
        "colab": {}
      },
      "source": [
        "! bash install_mecab-ko_on_colab190912.sh"
      ],
      "execution_count": 0,
      "outputs": []
    },
    {
      "cell_type": "code",
      "metadata": {
        "id": "4_wH_4cFKCeu",
        "colab_type": "code",
        "colab": {}
      },
      "source": [
        "!pip install konlpy"
      ],
      "execution_count": 0,
      "outputs": []
    },
    {
      "cell_type": "code",
      "metadata": {
        "id": "3VmwWk1GD2kW",
        "colab_type": "code",
        "colab": {}
      },
      "source": [
        "import pandas\n",
        "# from konlpy.tag import Mecab, Okt, Kkma\n",
        "from tqdm import tqdm, tqdm_notebook\n",
        "# tagger = Mecab()\n",
        "# tokenize = tagger.morphs\n",
        "\n",
        "tokendata = pandas.read_csv('/content/drive/My Drive/Colab Notebooks/rm_duplicate/okt_train.csv')\n",
        "\n",
        "# tokendata1 = tokendata[0:1000]\n",
        "# tokendata2 = tokendata[100000:200000]\n",
        "# tokendata3 = tokendata[200000:]\n"
      ],
      "execution_count": 0,
      "outputs": []
    },
    {
      "cell_type": "code",
      "metadata": {
        "id": "JdPHdxE06K1m",
        "colab_type": "code",
        "outputId": "0d81bdcc-9f0d-4124-b1ee-8047b2247fb3",
        "colab": {
          "base_uri": "https://localhost:8080/",
          "height": 34
        }
      },
      "source": [
        "# from konlpy.tag import Okt\n",
        "# tagger = Okt()\n",
        "\n",
        "text1 = '오늘 읽은  시중에서'\n",
        "ex1 = tagger.pos(text1)\n",
        "\n",
        "ex1"
      ],
      "execution_count": 0,
      "outputs": [
        {
          "output_type": "execute_result",
          "data": {
            "text/plain": [
              "[('오늘', 'Noun'), ('읽은', 'Verb'), ('시중', 'Noun'), ('에서', 'Josa')]"
            ]
          },
          "metadata": {
            "tags": []
          },
          "execution_count": 4
        }
      ]
    },
    {
      "cell_type": "code",
      "metadata": {
        "id": "QiwVC-VtdWHy",
        "colab_type": "code",
        "colab": {}
      },
      "source": [
        "aa = tokendata[tokendata.smishing == 1]\n",
        "bb = tokendata[tokendata.smishing == 0]"
      ],
      "execution_count": 0,
      "outputs": []
    },
    {
      "cell_type": "code",
      "metadata": {
        "id": "_docW0xG53B3",
        "colab_type": "code",
        "outputId": "300afc73-2fe5-4e2e-9aee-7d8c2645a10d",
        "colab": {
          "base_uri": "https://localhost:8080/",
          "height": 102,
          "referenced_widgets": [
            "7bd64086de1648db89a72235b42b6e26",
            "1dd5b9003ccb40e69732792f7c9013ab",
            "0f529e3fc1334a979bb08b473263d1af",
            "4e24c397bbd94a059317710d38a5e94a",
            "672b29ec4b9c4bde8b8f8d7db6730543",
            "86fe940fad144d29a399f4bbda121a56",
            "9941dfb7610f4ef58f13793c26ee9c83",
            "58817a7e805349c7ba22942f39f679f7"
          ]
        }
      },
      "source": [
        "from collections import Counter\n",
        "import math\n",
        "from pprint import pprint as pp\n",
        "tokenlist = []\n",
        "for idx, a in enumerate(tqdm_notebook(aa.text)):\n",
        "  token = a.split(\" \")\n",
        "  tokenlist += [w for w in token if '삼성' in w]\n",
        "counter = Counter(tokenlist).most_common(30)\n",
        "tokenlist_set = set(tokenlist)\n",
        "print(f\"총 등장 개수 : {len(tokenlist)} 중복제거 개수 : {len(tokenlist_set)}\")\n",
        "pp(counter)"
      ],
      "execution_count": 0,
      "outputs": [
        {
          "output_type": "display_data",
          "data": {
            "application/vnd.jupyter.widget-view+json": {
              "model_id": "7bd64086de1648db89a72235b42b6e26",
              "version_minor": 0,
              "version_major": 2
            },
            "text/plain": [
              "HBox(children=(IntProgress(value=0, max=1325), HTML(value='')))"
            ]
          },
          "metadata": {
            "tags": []
          }
        },
        {
          "output_type": "stream",
          "text": [
            "\n",
            "총 등장 개수 : 21 중복제거 개수 : 3\n",
            "[('삼성Noun', 19), ('사1.삼성URL', 1), ('사5.삼성URL', 1)]\n"
          ],
          "name": "stdout"
        }
      ]
    },
    {
      "cell_type": "code",
      "metadata": {
        "id": "7lyuXjs4EYDs",
        "colab_type": "code",
        "outputId": "0f3eb938-4ca0-4524-df18-87e4a54d3f3e",
        "colab": {
          "base_uri": "https://localhost:8080/",
          "height": 154,
          "referenced_widgets": [
            "67d21010cf684101ae18c624cfd75a14",
            "3b940597e15149d09ca4cff90681d9f9",
            "d4ad8e11b7304e5cad479d3e8631b213",
            "d5126eb8920b498a9d495273ff28dfe0",
            "ec2e1096885544bc8cfaaaff3c7757df",
            "d4d61096437e4c4a905111d6a404fbca",
            "29580ac2440e40578bb1250817e1555d",
            "259ca6a6f7ea43d0a0cfb37206c27c83"
          ]
        }
      },
      "source": [
        "for idx, a in enumerate(tqdm_notebook(tokendata.text)):\n",
        "  # token = tagger.pos(a)\n",
        "  token = a.split(\" \")\n",
        "  tokenlist = [w for w in token if all([must not in w for must in ['Josa','Punctuation', 'X']])]\n",
        "  # tokenlist = [w[0] + w[1] for w in token if w[0] not in ('XXX')]\n",
        "  # tokenlist = [w[0] + w[1] for w in token if w[1] in ('Noun', 'Verb')]\n",
        "  tokendata.text[idx] = \" \".join(tokenlist)"
      ],
      "execution_count": 0,
      "outputs": [
        {
          "output_type": "display_data",
          "data": {
            "application/vnd.jupyter.widget-view+json": {
              "model_id": "67d21010cf684101ae18c624cfd75a14",
              "version_minor": 0,
              "version_major": 2
            },
            "text/plain": [
              "HBox(children=(IntProgress(value=0, max=206829), HTML(value='')))"
            ]
          },
          "metadata": {
            "tags": []
          }
        },
        {
          "output_type": "stream",
          "text": [
            "/usr/local/lib/python3.6/dist-packages/ipykernel_launcher.py:7: SettingWithCopyWarning: \n",
            "A value is trying to be set on a copy of a slice from a DataFrame\n",
            "\n",
            "See the caveats in the documentation: http://pandas.pydata.org/pandas-docs/stable/user_guide/indexing.html#returning-a-view-versus-a-copy\n",
            "  import sys\n"
          ],
          "name": "stderr"
        },
        {
          "output_type": "stream",
          "text": [
            "\n"
          ],
          "name": "stdout"
        }
      ]
    },
    {
      "cell_type": "code",
      "metadata": {
        "id": "rSM8TKl7dL9A",
        "colab_type": "code",
        "outputId": "06b72dc3-ee21-4776-dc65-3e26716650d2",
        "colab": {
          "base_uri": "https://localhost:8080/",
          "height": 136
        }
      },
      "source": [
        "tokendata.head(3)"
      ],
      "execution_count": 0,
      "outputs": [
        {
          "output_type": "execute_result",
          "data": {
            "text/html": [
              "<div>\n",
              "<style scoped>\n",
              "    .dataframe tbody tr th:only-of-type {\n",
              "        vertical-align: middle;\n",
              "    }\n",
              "\n",
              "    .dataframe tbody tr th {\n",
              "        vertical-align: top;\n",
              "    }\n",
              "\n",
              "    .dataframe thead th {\n",
              "        text-align: right;\n",
              "    }\n",
              "</style>\n",
              "<table border=\"1\" class=\"dataframe\">\n",
              "  <thead>\n",
              "    <tr style=\"text-align: right;\">\n",
              "      <th></th>\n",
              "      <th>Unnamed: 0</th>\n",
              "      <th>id</th>\n",
              "      <th>year_month</th>\n",
              "      <th>text</th>\n",
              "      <th>smishing</th>\n",
              "    </tr>\n",
              "  </thead>\n",
              "  <tbody>\n",
              "    <tr>\n",
              "      <th>0</th>\n",
              "      <td>0</td>\n",
              "      <td>0</td>\n",
              "      <td>2017-01</td>\n",
              "      <td>XXXAlpha 은행Noun 성산Noun XXXAlpha 팀Noun 장Suffix ...</td>\n",
              "      <td>0</td>\n",
              "    </tr>\n",
              "    <tr>\n",
              "      <th>1</th>\n",
              "      <td>1</td>\n",
              "      <td>1</td>\n",
              "      <td>2017-01</td>\n",
              "      <td>오늘Noun 도Josa 많이Adverb 웃으시는Verb 하루Noun 시작Noun 하...</td>\n",
              "      <td>0</td>\n",
              "    </tr>\n",
              "    <tr>\n",
              "      <th>2</th>\n",
              "      <td>2</td>\n",
              "      <td>2</td>\n",
              "      <td>2017-01</td>\n",
              "      <td>안녕하십니까Noun 고객Noun 님Suffix .Punctuation XXXAlph...</td>\n",
              "      <td>0</td>\n",
              "    </tr>\n",
              "  </tbody>\n",
              "</table>\n",
              "</div>"
            ],
            "text/plain": [
              "   Unnamed: 0  id  ...                                               text smishing\n",
              "0           0   0  ...  XXXAlpha 은행Noun 성산Noun XXXAlpha 팀Noun 장Suffix ...        0\n",
              "1           1   1  ...  오늘Noun 도Josa 많이Adverb 웃으시는Verb 하루Noun 시작Noun 하...        0\n",
              "2           2   2  ...  안녕하십니까Noun 고객Noun 님Suffix .Punctuation XXXAlph...        0\n",
              "\n",
              "[3 rows x 5 columns]"
            ]
          },
          "metadata": {
            "tags": []
          },
          "execution_count": 9
        }
      ]
    },
    {
      "cell_type": "code",
      "metadata": {
        "id": "SUDzqrI6Wq1z",
        "colab_type": "code",
        "colab": {}
      },
      "source": [
        "tokendata.to_csv('/content/drive/My Drive/Colab Notebooks/rm_duplicate/oktXPunc_train.csv',index=False)"
      ],
      "execution_count": 0,
      "outputs": []
    },
    {
      "cell_type": "code",
      "metadata": {
        "id": "bVSaJLn3cQMI",
        "colab_type": "code",
        "colab": {}
      },
      "source": [
        "nparray = np.array(hlist)\n",
        "\n",
        "np.save('/content/drive/My Drive/Colab Notebooks/data/NUMPY_mecab_public_test.npy',nparray)"
      ],
      "execution_count": 0,
      "outputs": []
    },
    {
      "cell_type": "code",
      "metadata": {
        "id": "DPmeNhRi5XbZ",
        "colab_type": "code",
        "colab": {}
      },
      "source": [
        "import pandas\n",
        "import numpy as np\n",
        "split = 177566     #int(295944 * 0.7)\n",
        "tokendata = pandas.read_csv('/content/drive/My Drive/Colab Notebooks/data/okt_train.csv')\n",
        "\n",
        "\n",
        "# traindata = traindataset[:split]\n",
        "# valdata = traindataset[split:]"
      ],
      "execution_count": 0,
      "outputs": []
    },
    {
      "cell_type": "code",
      "metadata": {
        "id": "ALbdc5lW0H_t",
        "colab_type": "code",
        "colab": {}
      },
      "source": [
        "tokendata['text']"
      ],
      "execution_count": 0,
      "outputs": []
    },
    {
      "cell_type": "code",
      "metadata": {
        "id": "8rOB0Lg_15r6",
        "colab_type": "code",
        "outputId": "1b7da2db-8d19-4aff-fef3-dff65ec5894b",
        "colab": {
          "base_uri": "https://localhost:8080/",
          "height": 195
        }
      },
      "source": [
        "sfldata = tokendata.reindex(np.random.permutation(tokendata.index))\n",
        "sfldata.head(5)"
      ],
      "execution_count": 0,
      "outputs": [
        {
          "output_type": "execute_result",
          "data": {
            "text/html": [
              "<div>\n",
              "<style scoped>\n",
              "    .dataframe tbody tr th:only-of-type {\n",
              "        vertical-align: middle;\n",
              "    }\n",
              "\n",
              "    .dataframe tbody tr th {\n",
              "        vertical-align: top;\n",
              "    }\n",
              "\n",
              "    .dataframe thead th {\n",
              "        text-align: right;\n",
              "    }\n",
              "</style>\n",
              "<table border=\"1\" class=\"dataframe\">\n",
              "  <thead>\n",
              "    <tr style=\"text-align: right;\">\n",
              "      <th></th>\n",
              "      <th>id</th>\n",
              "      <th>year_month</th>\n",
              "      <th>text</th>\n",
              "      <th>smishing</th>\n",
              "    </tr>\n",
              "  </thead>\n",
              "  <tbody>\n",
              "    <tr>\n",
              "      <th>186304</th>\n",
              "      <td>212941</td>\n",
              "      <td>2017-12</td>\n",
              "      <td>(SSO 광고NNG )SSC (SSO 고객NNG 을JKO 최우선NNG 으로JKB 생...</td>\n",
              "      <td>1</td>\n",
              "    </tr>\n",
              "    <tr>\n",
              "      <th>193</th>\n",
              "      <td>216</td>\n",
              "      <td>2017-01</td>\n",
              "      <td>스타NNG 알림VV+ETN 어IC 플NNG 설치NNG 하XSV 면EC 입출금NNG ...</td>\n",
              "      <td>0</td>\n",
              "    </tr>\n",
              "    <tr>\n",
              "      <th>234685</th>\n",
              "      <td>266698</td>\n",
              "      <td>2018-05</td>\n",
              "      <td>기분NNG 좋VA 은ETM 일NNG 가득MAG 한XSA+ETM 하루NNG 되XSV ...</td>\n",
              "      <td>0</td>\n",
              "    </tr>\n",
              "    <tr>\n",
              "      <th>153201</th>\n",
              "      <td>175883</td>\n",
              "      <td>2017-09</td>\n",
              "      <td>일교차NNG 가JKS 심해요VA+EF 감기NNG 조심NNG 하XSV 시EP 고EC ...</td>\n",
              "      <td>0</td>\n",
              "    </tr>\n",
              "    <tr>\n",
              "      <th>127330</th>\n",
              "      <td>146999</td>\n",
              "      <td>2017-08</td>\n",
              "      <td>(SSO 광고NNG )SSC 은행NNG 의JKG 모바일NNP 서비스NNG 리브NNG...</td>\n",
              "      <td>0</td>\n",
              "    </tr>\n",
              "  </tbody>\n",
              "</table>\n",
              "</div>"
            ],
            "text/plain": [
              "            id  ... smishing\n",
              "186304  212941  ...        1\n",
              "193        216  ...        0\n",
              "234685  266698  ...        0\n",
              "153201  175883  ...        0\n",
              "127330  146999  ...        0\n",
              "\n",
              "[5 rows x 4 columns]"
            ]
          },
          "metadata": {
            "tags": []
          },
          "execution_count": 23
        }
      ]
    },
    {
      "cell_type": "code",
      "metadata": {
        "id": "lIxUphgx3G8C",
        "colab_type": "code",
        "colab": {}
      },
      "source": [
        "traindata = sfldata[:split]\n",
        "valdata = sfldata[split:]\n",
        "\n",
        "traindata.to_csv('/content/drive/My Drive/Colab Notebooks/data/mecab3_train_split.csv',index=False)\n",
        "valdata.to_csv('/content/drive/My Drive/Colab Notebooks/data/mecab3_val_split.csv', index=False)"
      ],
      "execution_count": 0,
      "outputs": []
    },
    {
      "cell_type": "code",
      "metadata": {
        "id": "5ulXnOsKDaAo",
        "colab_type": "code",
        "colab": {}
      },
      "source": [
        "import pandas\n",
        "import numpy as np\n",
        "split = 177566     #int(295944 * 0.7)\n",
        "data = pandas.read_csv('/content/drive/My Drive/Colab Notebooks/data/okt_train.csv')\n",
        "filtered = np.load('/content/OverlapArray.npy')"
      ],
      "execution_count": 0,
      "outputs": []
    },
    {
      "cell_type": "code",
      "metadata": {
        "id": "pW_qpZrQHSaR",
        "colab_type": "code",
        "outputId": "2df5c2c0-45c4-4857-dc56-051322df574c",
        "colab": {
          "base_uri": "https://localhost:8080/",
          "height": 52
        }
      },
      "source": [
        "mylist = filtered.tolist()\n",
        "print(len(mylist))\n",
        "del mylist[108595]\n",
        "del mylist[102253]\n",
        "del mylist[8279]\n",
        "print(len(mylist))"
      ],
      "execution_count": 0,
      "outputs": [
        {
          "output_type": "stream",
          "text": [
            "295945\n",
            "295942\n"
          ],
          "name": "stdout"
        }
      ]
    },
    {
      "cell_type": "code",
      "metadata": {
        "id": "2yXAFFxZDpVY",
        "colab_type": "code",
        "colab": {}
      },
      "source": [
        "df = pandas.DataFrame({'id' : data.id, 'year_month' : data.year_month, 'text' : data.text, 'smishing':data.smishing,'jiwa':mylist})\n",
        "NDdata = df[df.jiwa ==0 ]\n",
        "del NDdata['jiwa']"
      ],
      "execution_count": 0,
      "outputs": []
    },
    {
      "cell_type": "code",
      "metadata": {
        "id": "B8OK8FNhKKzX",
        "colab_type": "code",
        "outputId": "50228cd9-c274-48c0-8870-a75a5047dcaa",
        "colab": {
          "base_uri": "https://localhost:8080/",
          "height": 195
        }
      },
      "source": [
        "NDdata.head(5)"
      ],
      "execution_count": 0,
      "outputs": [
        {
          "output_type": "execute_result",
          "data": {
            "text/html": [
              "<div>\n",
              "<style scoped>\n",
              "    .dataframe tbody tr th:only-of-type {\n",
              "        vertical-align: middle;\n",
              "    }\n",
              "\n",
              "    .dataframe tbody tr th {\n",
              "        vertical-align: top;\n",
              "    }\n",
              "\n",
              "    .dataframe thead th {\n",
              "        text-align: right;\n",
              "    }\n",
              "</style>\n",
              "<table border=\"1\" class=\"dataframe\">\n",
              "  <thead>\n",
              "    <tr style=\"text-align: right;\">\n",
              "      <th></th>\n",
              "      <th>id</th>\n",
              "      <th>year_month</th>\n",
              "      <th>text</th>\n",
              "      <th>smishing</th>\n",
              "    </tr>\n",
              "  </thead>\n",
              "  <tbody>\n",
              "    <tr>\n",
              "      <th>0</th>\n",
              "      <td>0</td>\n",
              "      <td>2017-01</td>\n",
              "      <td>XXXAlpha 은행Noun 성산Noun XXXAlpha 팀Noun 장Suffix ...</td>\n",
              "      <td>0</td>\n",
              "    </tr>\n",
              "    <tr>\n",
              "      <th>1</th>\n",
              "      <td>1</td>\n",
              "      <td>2017-01</td>\n",
              "      <td>오늘Noun 도Josa 많이Adverb 웃으시는Verb 하루Noun 시작Noun 하...</td>\n",
              "      <td>0</td>\n",
              "    </tr>\n",
              "    <tr>\n",
              "      <th>2</th>\n",
              "      <td>2</td>\n",
              "      <td>2017-01</td>\n",
              "      <td>안녕하십니까Noun 고객Noun 님Suffix .Punctuation XXXAlph...</td>\n",
              "      <td>0</td>\n",
              "    </tr>\n",
              "    <tr>\n",
              "      <th>3</th>\n",
              "      <td>4</td>\n",
              "      <td>2017-01</td>\n",
              "      <td>XXXAlpha 고객Noun 님Suffix 안녕하세요Adjective XXXAlph...</td>\n",
              "      <td>0</td>\n",
              "    </tr>\n",
              "    <tr>\n",
              "      <th>4</th>\n",
              "      <td>5</td>\n",
              "      <td>2017-01</td>\n",
              "      <td>1월Number 은Foreign 새Modifier 로움Noun 이Josa 가득Nou...</td>\n",
              "      <td>0</td>\n",
              "    </tr>\n",
              "  </tbody>\n",
              "</table>\n",
              "</div>"
            ],
            "text/plain": [
              "   id year_month                                               text  smishing\n",
              "0   0    2017-01  XXXAlpha 은행Noun 성산Noun XXXAlpha 팀Noun 장Suffix ...         0\n",
              "1   1    2017-01  오늘Noun 도Josa 많이Adverb 웃으시는Verb 하루Noun 시작Noun 하...         0\n",
              "2   2    2017-01  안녕하십니까Noun 고객Noun 님Suffix .Punctuation XXXAlph...         0\n",
              "3   4    2017-01  XXXAlpha 고객Noun 님Suffix 안녕하세요Adjective XXXAlph...         0\n",
              "4   5    2017-01  1월Number 은Foreign 새Modifier 로움Noun 이Josa 가득Nou...         0"
            ]
          },
          "metadata": {
            "tags": []
          },
          "execution_count": 60
        }
      ]
    },
    {
      "cell_type": "code",
      "metadata": {
        "id": "2TZ0eOFPJ4-7",
        "colab_type": "code",
        "colab": {}
      },
      "source": [
        "NDdata.to_csv('/content/drive/My Drive/Colab Notebooks/rm_duplicate/okt_train.csv')"
      ],
      "execution_count": 0,
      "outputs": []
    }
  ]
}